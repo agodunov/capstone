{
 "cells": [
  {
   "cell_type": "code",
   "execution_count": 1,
   "id": "c431651e",
   "metadata": {},
   "outputs": [],
   "source": [
    "import numpy as np\n",
    "import pandas as pd\n",
    "import matplotlib.pyplot as plt \n",
    "from sklearn.gaussian_process import GaussianProcessRegressor\n",
    "from sklearn.gaussian_process.kernels import RBF\n",
    "from sklearn.linear_model import LinearRegression\n",
    "from sklearn.preprocessing import PolynomialFeatures\n",
    "from scipy.optimize import minimize\n",
    "# Step 2: Enable interactive mode for Jupyter Notebook\n",
    "%matplotlib inline\n",
    "np.set_printoptions(formatter={'float_kind': lambda x: f\"{x:0.6f}\"})"
   ]
  },
  {
   "cell_type": "markdown",
   "id": "6e893d43",
   "metadata": {},
   "source": [
    "# 1. Load, scale and display data"
   ]
  },
  {
   "cell_type": "code",
   "execution_count": 2,
   "id": "940b799c",
   "metadata": {},
   "outputs": [],
   "source": [
    "df = pd.read_excel('data5.xlsx')"
   ]
  },
  {
   "cell_type": "code",
   "execution_count": 3,
   "id": "469648a4",
   "metadata": {},
   "outputs": [
    {
     "data": {
      "text/html": [
       "<div>\n",
       "<style scoped>\n",
       "    .dataframe tbody tr th:only-of-type {\n",
       "        vertical-align: middle;\n",
       "    }\n",
       "\n",
       "    .dataframe tbody tr th {\n",
       "        vertical-align: top;\n",
       "    }\n",
       "\n",
       "    .dataframe thead th {\n",
       "        text-align: right;\n",
       "    }\n",
       "</style>\n",
       "<table border=\"1\" class=\"dataframe\">\n",
       "  <thead>\n",
       "    <tr style=\"text-align: right;\">\n",
       "      <th></th>\n",
       "      <th>x1</th>\n",
       "      <th>x2</th>\n",
       "      <th>x3</th>\n",
       "      <th>x4</th>\n",
       "      <th>y</th>\n",
       "      <th>Notes</th>\n",
       "    </tr>\n",
       "  </thead>\n",
       "  <tbody>\n",
       "    <tr>\n",
       "      <th>0</th>\n",
       "      <td>0.438350</td>\n",
       "      <td>0.804340</td>\n",
       "      <td>0.210245</td>\n",
       "      <td>0.151295</td>\n",
       "      <td>0.112940</td>\n",
       "      <td>NaN</td>\n",
       "    </tr>\n",
       "    <tr>\n",
       "      <th>1</th>\n",
       "      <td>0.706051</td>\n",
       "      <td>0.534192</td>\n",
       "      <td>0.264243</td>\n",
       "      <td>0.482088</td>\n",
       "      <td>4.210898</td>\n",
       "      <td>NaN</td>\n",
       "    </tr>\n",
       "    <tr>\n",
       "      <th>2</th>\n",
       "      <td>0.153786</td>\n",
       "      <td>0.729382</td>\n",
       "      <td>0.422598</td>\n",
       "      <td>0.443074</td>\n",
       "      <td>8.847992</td>\n",
       "      <td>NaN</td>\n",
       "    </tr>\n",
       "    <tr>\n",
       "      <th>3</th>\n",
       "      <td>0.126885</td>\n",
       "      <td>0.153430</td>\n",
       "      <td>0.770162</td>\n",
       "      <td>0.190518</td>\n",
       "      <td>9.972332</td>\n",
       "      <td>NaN</td>\n",
       "    </tr>\n",
       "    <tr>\n",
       "      <th>4</th>\n",
       "      <td>0.758653</td>\n",
       "      <td>0.536518</td>\n",
       "      <td>0.656000</td>\n",
       "      <td>0.360342</td>\n",
       "      <td>18.301380</td>\n",
       "      <td>NaN</td>\n",
       "    </tr>\n",
       "    <tr>\n",
       "      <th>5</th>\n",
       "      <td>0.677491</td>\n",
       "      <td>0.358510</td>\n",
       "      <td>0.479592</td>\n",
       "      <td>0.072880</td>\n",
       "      <td>24.423088</td>\n",
       "      <td>NaN</td>\n",
       "    </tr>\n",
       "    <tr>\n",
       "      <th>6</th>\n",
       "      <td>0.725262</td>\n",
       "      <td>0.479870</td>\n",
       "      <td>0.088947</td>\n",
       "      <td>0.759760</td>\n",
       "      <td>28.866752</td>\n",
       "      <td>NaN</td>\n",
       "    </tr>\n",
       "    <tr>\n",
       "      <th>7</th>\n",
       "      <td>0.355482</td>\n",
       "      <td>0.639619</td>\n",
       "      <td>0.417618</td>\n",
       "      <td>0.122604</td>\n",
       "      <td>45.181570</td>\n",
       "      <td>NaN</td>\n",
       "    </tr>\n",
       "    <tr>\n",
       "      <th>8</th>\n",
       "      <td>0.553621</td>\n",
       "      <td>0.667350</td>\n",
       "      <td>0.323806</td>\n",
       "      <td>0.814870</td>\n",
       "      <td>57.571537</td>\n",
       "      <td>NaN</td>\n",
       "    </tr>\n",
       "    <tr>\n",
       "      <th>9</th>\n",
       "      <td>0.306889</td>\n",
       "      <td>0.316878</td>\n",
       "      <td>0.622634</td>\n",
       "      <td>0.095399</td>\n",
       "      <td>63.476716</td>\n",
       "      <td>NaN</td>\n",
       "    </tr>\n",
       "    <tr>\n",
       "      <th>10</th>\n",
       "      <td>0.583973</td>\n",
       "      <td>0.147243</td>\n",
       "      <td>0.348097</td>\n",
       "      <td>0.428615</td>\n",
       "      <td>64.420147</td>\n",
       "      <td>NaN</td>\n",
       "    </tr>\n",
       "    <tr>\n",
       "      <th>11</th>\n",
       "      <td>0.191447</td>\n",
       "      <td>0.038193</td>\n",
       "      <td>0.607418</td>\n",
       "      <td>0.414584</td>\n",
       "      <td>64.443440</td>\n",
       "      <td>NaN</td>\n",
       "    </tr>\n",
       "    <tr>\n",
       "      <th>12</th>\n",
       "      <td>0.305406</td>\n",
       "      <td>0.999999</td>\n",
       "      <td>0.908830</td>\n",
       "      <td>0.830208</td>\n",
       "      <td>68.077222</td>\n",
       "      <td>9/6 Grad for #0 exp 3224</td>\n",
       "    </tr>\n",
       "    <tr>\n",
       "      <th>13</th>\n",
       "      <td>0.683432</td>\n",
       "      <td>0.118663</td>\n",
       "      <td>0.829046</td>\n",
       "      <td>0.567577</td>\n",
       "      <td>78.434389</td>\n",
       "      <td>NaN</td>\n",
       "    </tr>\n",
       "    <tr>\n",
       "      <th>14</th>\n",
       "      <td>0.511142</td>\n",
       "      <td>0.817957</td>\n",
       "      <td>0.728710</td>\n",
       "      <td>0.112354</td>\n",
       "      <td>79.729130</td>\n",
       "      <td>NaN</td>\n",
       "    </tr>\n",
       "    <tr>\n",
       "      <th>15</th>\n",
       "      <td>0.352356</td>\n",
       "      <td>0.322242</td>\n",
       "      <td>0.116979</td>\n",
       "      <td>0.473113</td>\n",
       "      <td>109.571876</td>\n",
       "      <td>NaN</td>\n",
       "    </tr>\n",
       "    <tr>\n",
       "      <th>16</th>\n",
       "      <td>0.463442</td>\n",
       "      <td>0.630025</td>\n",
       "      <td>0.107906</td>\n",
       "      <td>0.957644</td>\n",
       "      <td>233.223610</td>\n",
       "      <td>NaN</td>\n",
       "    </tr>\n",
       "    <tr>\n",
       "      <th>17</th>\n",
       "      <td>0.836478</td>\n",
       "      <td>0.193610</td>\n",
       "      <td>0.663893</td>\n",
       "      <td>0.785649</td>\n",
       "      <td>258.370525</td>\n",
       "      <td>NaN</td>\n",
       "    </tr>\n",
       "    <tr>\n",
       "      <th>18</th>\n",
       "      <td>0.438933</td>\n",
       "      <td>0.774092</td>\n",
       "      <td>0.378167</td>\n",
       "      <td>0.933696</td>\n",
       "      <td>355.806818</td>\n",
       "      <td>NaN</td>\n",
       "    </tr>\n",
       "    <tr>\n",
       "      <th>19</th>\n",
       "      <td>0.119879</td>\n",
       "      <td>0.862540</td>\n",
       "      <td>0.643331</td>\n",
       "      <td>0.849804</td>\n",
       "      <td>431.612757</td>\n",
       "      <td>NaN</td>\n",
       "    </tr>\n",
       "    <tr>\n",
       "      <th>20</th>\n",
       "      <td>0.235065</td>\n",
       "      <td>0.947364</td>\n",
       "      <td>0.562318</td>\n",
       "      <td>0.900965</td>\n",
       "      <td>848.134677</td>\n",
       "      <td>16/6 BO exp 1203 but with higher std ! Review ...</td>\n",
       "    </tr>\n",
       "    <tr>\n",
       "      <th>21</th>\n",
       "      <td>0.184853</td>\n",
       "      <td>0.999999</td>\n",
       "      <td>0.666808</td>\n",
       "      <td>0.811157</td>\n",
       "      <td>950.014554</td>\n",
       "      <td>9/6 Grad #1 exp 2289</td>\n",
       "    </tr>\n",
       "    <tr>\n",
       "      <th>22</th>\n",
       "      <td>0.220000</td>\n",
       "      <td>0.840000</td>\n",
       "      <td>0.880000</td>\n",
       "      <td>0.880000</td>\n",
       "      <td>1071.050512</td>\n",
       "      <td>2/6 this is wrong</td>\n",
       "    </tr>\n",
       "    <tr>\n",
       "      <th>23</th>\n",
       "      <td>0.224189</td>\n",
       "      <td>0.846480</td>\n",
       "      <td>0.879484</td>\n",
       "      <td>0.878516</td>\n",
       "      <td>1088.859618</td>\n",
       "      <td>NaN</td>\n",
       "    </tr>\n",
       "    <tr>\n",
       "      <th>24</th>\n",
       "      <td>0.232590</td>\n",
       "      <td>0.844583</td>\n",
       "      <td>0.883651</td>\n",
       "      <td>0.880775</td>\n",
       "      <td>1112.189450</td>\n",
       "      <td>BO for 9/6 exp 1092</td>\n",
       "    </tr>\n",
       "    <tr>\n",
       "      <th>25</th>\n",
       "      <td>0.236257</td>\n",
       "      <td>0.888882</td>\n",
       "      <td>0.844659</td>\n",
       "      <td>0.886004</td>\n",
       "      <td>1164.026641</td>\n",
       "      <td>16/6 BO exp 1116</td>\n",
       "    </tr>\n",
       "    <tr>\n",
       "      <th>26</th>\n",
       "      <td>0.231038</td>\n",
       "      <td>0.847897</td>\n",
       "      <td>0.883615</td>\n",
       "      <td>0.890081</td>\n",
       "      <td>1171.727046</td>\n",
       "      <td>16/6 Grad exp 2617</td>\n",
       "    </tr>\n",
       "    <tr>\n",
       "      <th>27</th>\n",
       "      <td>0.231744</td>\n",
       "      <td>0.855280</td>\n",
       "      <td>0.890860</td>\n",
       "      <td>0.899489</td>\n",
       "      <td>1291.896225</td>\n",
       "      <td>16/6 lin grad 1277</td>\n",
       "    </tr>\n",
       "    <tr>\n",
       "      <th>28</th>\n",
       "      <td>0.247469</td>\n",
       "      <td>0.898655</td>\n",
       "      <td>0.999999</td>\n",
       "      <td>0.981066</td>\n",
       "      <td>3110.293535</td>\n",
       "      <td>16/6 BO exp 1726</td>\n",
       "    </tr>\n",
       "    <tr>\n",
       "      <th>29</th>\n",
       "      <td>0.267874</td>\n",
       "      <td>0.999999</td>\n",
       "      <td>0.999999</td>\n",
       "      <td>0.980430</td>\n",
       "      <td>4201.719662</td>\n",
       "      <td>23/6 BO exp 3252</td>\n",
       "    </tr>\n",
       "    <tr>\n",
       "      <th>30</th>\n",
       "      <td>0.206993</td>\n",
       "      <td>0.991498</td>\n",
       "      <td>0.955382</td>\n",
       "      <td>0.999999</td>\n",
       "      <td>3779.592979</td>\n",
       "      <td>30/6 BO exp 6552</td>\n",
       "    </tr>\n",
       "    <tr>\n",
       "      <th>31</th>\n",
       "      <td>0.250000</td>\n",
       "      <td>0.982003</td>\n",
       "      <td>0.990186</td>\n",
       "      <td>0.998865</td>\n",
       "      <td>4072.208967</td>\n",
       "      <td>30/6 BO 0*std exp 4923</td>\n",
       "    </tr>\n",
       "    <tr>\n",
       "      <th>32</th>\n",
       "      <td>0.165370</td>\n",
       "      <td>0.981963</td>\n",
       "      <td>0.999999</td>\n",
       "      <td>0.977524</td>\n",
       "      <td>3915.440284</td>\n",
       "      <td>7/7 BO exp 5680</td>\n",
       "    </tr>\n",
       "    <tr>\n",
       "      <th>33</th>\n",
       "      <td>0.262200</td>\n",
       "      <td>0.999999</td>\n",
       "      <td>0.999999</td>\n",
       "      <td>0.980598</td>\n",
       "      <td>4202.233385</td>\n",
       "      <td>7/7 grad exp 4818</td>\n",
       "    </tr>\n",
       "    <tr>\n",
       "      <th>34</th>\n",
       "      <td>0.276802</td>\n",
       "      <td>0.971068</td>\n",
       "      <td>0.970844</td>\n",
       "      <td>0.978079</td>\n",
       "      <td>3459.885396</td>\n",
       "      <td>12/7 BO 2*std exp 4788</td>\n",
       "    </tr>\n",
       "    <tr>\n",
       "      <th>35</th>\n",
       "      <td>0.269789</td>\n",
       "      <td>0.999999</td>\n",
       "      <td>0.999999</td>\n",
       "      <td>0.999999</td>\n",
       "      <td>4462.780062</td>\n",
       "      <td>12/7 grad exp 4451</td>\n",
       "    </tr>\n",
       "    <tr>\n",
       "      <th>36</th>\n",
       "      <td>0.999999</td>\n",
       "      <td>0.999999</td>\n",
       "      <td>0.728348</td>\n",
       "      <td>0.999999</td>\n",
       "      <td>5513.853862</td>\n",
       "      <td>14/7 BO 2*std exp 7362</td>\n",
       "    </tr>\n",
       "    <tr>\n",
       "      <th>37</th>\n",
       "      <td>0.277324</td>\n",
       "      <td>0.999999</td>\n",
       "      <td>0.999999</td>\n",
       "      <td>0.999999</td>\n",
       "      <td>4465.211173</td>\n",
       "      <td>14/7 grad exp 4465</td>\n",
       "    </tr>\n",
       "    <tr>\n",
       "      <th>38</th>\n",
       "      <td>0.999999</td>\n",
       "      <td>0.999999</td>\n",
       "      <td>0.630100</td>\n",
       "      <td>0.999999</td>\n",
       "      <td>5035.734509</td>\n",
       "      <td>17/7 BO 0* std exp 13931</td>\n",
       "    </tr>\n",
       "    <tr>\n",
       "      <th>39</th>\n",
       "      <td>0.999999</td>\n",
       "      <td>0.999999</td>\n",
       "      <td>0.491822</td>\n",
       "      <td>0.999999</td>\n",
       "      <td>4663.414619</td>\n",
       "      <td>17/7 BO 1* std exp 13931</td>\n",
       "    </tr>\n",
       "  </tbody>\n",
       "</table>\n",
       "</div>"
      ],
      "text/plain": [
       "          x1        x2        x3        x4            y  \\\n",
       "0   0.438350  0.804340  0.210245  0.151295     0.112940   \n",
       "1   0.706051  0.534192  0.264243  0.482088     4.210898   \n",
       "2   0.153786  0.729382  0.422598  0.443074     8.847992   \n",
       "3   0.126885  0.153430  0.770162  0.190518     9.972332   \n",
       "4   0.758653  0.536518  0.656000  0.360342    18.301380   \n",
       "5   0.677491  0.358510  0.479592  0.072880    24.423088   \n",
       "6   0.725262  0.479870  0.088947  0.759760    28.866752   \n",
       "7   0.355482  0.639619  0.417618  0.122604    45.181570   \n",
       "8   0.553621  0.667350  0.323806  0.814870    57.571537   \n",
       "9   0.306889  0.316878  0.622634  0.095399    63.476716   \n",
       "10  0.583973  0.147243  0.348097  0.428615    64.420147   \n",
       "11  0.191447  0.038193  0.607418  0.414584    64.443440   \n",
       "12  0.305406  0.999999  0.908830  0.830208    68.077222   \n",
       "13  0.683432  0.118663  0.829046  0.567577    78.434389   \n",
       "14  0.511142  0.817957  0.728710  0.112354    79.729130   \n",
       "15  0.352356  0.322242  0.116979  0.473113   109.571876   \n",
       "16  0.463442  0.630025  0.107906  0.957644   233.223610   \n",
       "17  0.836478  0.193610  0.663893  0.785649   258.370525   \n",
       "18  0.438933  0.774092  0.378167  0.933696   355.806818   \n",
       "19  0.119879  0.862540  0.643331  0.849804   431.612757   \n",
       "20  0.235065  0.947364  0.562318  0.900965   848.134677   \n",
       "21  0.184853  0.999999  0.666808  0.811157   950.014554   \n",
       "22  0.220000  0.840000  0.880000  0.880000  1071.050512   \n",
       "23  0.224189  0.846480  0.879484  0.878516  1088.859618   \n",
       "24  0.232590  0.844583  0.883651  0.880775  1112.189450   \n",
       "25  0.236257  0.888882  0.844659  0.886004  1164.026641   \n",
       "26  0.231038  0.847897  0.883615  0.890081  1171.727046   \n",
       "27  0.231744  0.855280  0.890860  0.899489  1291.896225   \n",
       "28  0.247469  0.898655  0.999999  0.981066  3110.293535   \n",
       "29  0.267874  0.999999  0.999999  0.980430  4201.719662   \n",
       "30  0.206993  0.991498  0.955382  0.999999  3779.592979   \n",
       "31  0.250000  0.982003  0.990186  0.998865  4072.208967   \n",
       "32  0.165370  0.981963  0.999999  0.977524  3915.440284   \n",
       "33  0.262200  0.999999  0.999999  0.980598  4202.233385   \n",
       "34  0.276802  0.971068  0.970844  0.978079  3459.885396   \n",
       "35  0.269789  0.999999  0.999999  0.999999  4462.780062   \n",
       "36  0.999999  0.999999  0.728348  0.999999  5513.853862   \n",
       "37  0.277324  0.999999  0.999999  0.999999  4465.211173   \n",
       "38  0.999999  0.999999  0.630100  0.999999  5035.734509   \n",
       "39  0.999999  0.999999  0.491822  0.999999  4663.414619   \n",
       "\n",
       "                                                Notes  \n",
       "0                                                 NaN  \n",
       "1                                                 NaN  \n",
       "2                                                 NaN  \n",
       "3                                                 NaN  \n",
       "4                                                 NaN  \n",
       "5                                                 NaN  \n",
       "6                                                 NaN  \n",
       "7                                                 NaN  \n",
       "8                                                 NaN  \n",
       "9                                                 NaN  \n",
       "10                                                NaN  \n",
       "11                                                NaN  \n",
       "12                           9/6 Grad for #0 exp 3224  \n",
       "13                                                NaN  \n",
       "14                                                NaN  \n",
       "15                                                NaN  \n",
       "16                                                NaN  \n",
       "17                                                NaN  \n",
       "18                                                NaN  \n",
       "19                                                NaN  \n",
       "20  16/6 BO exp 1203 but with higher std ! Review ...  \n",
       "21                               9/6 Grad #1 exp 2289  \n",
       "22                                  2/6 this is wrong  \n",
       "23                                                NaN  \n",
       "24                                BO for 9/6 exp 1092  \n",
       "25                                   16/6 BO exp 1116  \n",
       "26                                 16/6 Grad exp 2617  \n",
       "27                                 16/6 lin grad 1277  \n",
       "28                                   16/6 BO exp 1726  \n",
       "29                                   23/6 BO exp 3252  \n",
       "30                                   30/6 BO exp 6552  \n",
       "31                             30/6 BO 0*std exp 4923  \n",
       "32                                    7/7 BO exp 5680  \n",
       "33                                  7/7 grad exp 4818  \n",
       "34                             12/7 BO 2*std exp 4788  \n",
       "35                                 12/7 grad exp 4451  \n",
       "36                             14/7 BO 2*std exp 7362  \n",
       "37                                 14/7 grad exp 4465  \n",
       "38                           17/7 BO 0* std exp 13931  \n",
       "39                           17/7 BO 1* std exp 13931  "
      ]
     },
     "execution_count": 3,
     "metadata": {},
     "output_type": "execute_result"
    }
   ],
   "source": [
    "df"
   ]
  },
  {
   "cell_type": "code",
   "execution_count": 4,
   "id": "30a9b4be",
   "metadata": {},
   "outputs": [],
   "source": [
    "df = df.drop(columns=['Notes'])\n",
    "df=df.dropna()"
   ]
  },
  {
   "cell_type": "code",
   "execution_count": 5,
   "id": "19547e58",
   "metadata": {},
   "outputs": [],
   "source": [
    "df['y'] = np.log(df['y'])"
   ]
  },
  {
   "cell_type": "code",
   "execution_count": 6,
   "id": "c1e29581",
   "metadata": {},
   "outputs": [
    {
     "data": {
      "text/html": [
       "<div>\n",
       "<style scoped>\n",
       "    .dataframe tbody tr th:only-of-type {\n",
       "        vertical-align: middle;\n",
       "    }\n",
       "\n",
       "    .dataframe tbody tr th {\n",
       "        vertical-align: top;\n",
       "    }\n",
       "\n",
       "    .dataframe thead th {\n",
       "        text-align: right;\n",
       "    }\n",
       "</style>\n",
       "<table border=\"1\" class=\"dataframe\">\n",
       "  <thead>\n",
       "    <tr style=\"text-align: right;\">\n",
       "      <th></th>\n",
       "      <th>x1</th>\n",
       "      <th>x2</th>\n",
       "      <th>x3</th>\n",
       "      <th>x4</th>\n",
       "      <th>y</th>\n",
       "    </tr>\n",
       "  </thead>\n",
       "  <tbody>\n",
       "    <tr>\n",
       "      <th>0</th>\n",
       "      <td>0.438350</td>\n",
       "      <td>0.804340</td>\n",
       "      <td>0.210245</td>\n",
       "      <td>0.151295</td>\n",
       "      <td>-2.180900</td>\n",
       "    </tr>\n",
       "    <tr>\n",
       "      <th>1</th>\n",
       "      <td>0.706051</td>\n",
       "      <td>0.534192</td>\n",
       "      <td>0.264243</td>\n",
       "      <td>0.482088</td>\n",
       "      <td>1.437676</td>\n",
       "    </tr>\n",
       "    <tr>\n",
       "      <th>2</th>\n",
       "      <td>0.153786</td>\n",
       "      <td>0.729382</td>\n",
       "      <td>0.422598</td>\n",
       "      <td>0.443074</td>\n",
       "      <td>2.180191</td>\n",
       "    </tr>\n",
       "    <tr>\n",
       "      <th>3</th>\n",
       "      <td>0.126885</td>\n",
       "      <td>0.153430</td>\n",
       "      <td>0.770162</td>\n",
       "      <td>0.190518</td>\n",
       "      <td>2.299814</td>\n",
       "    </tr>\n",
       "    <tr>\n",
       "      <th>4</th>\n",
       "      <td>0.758653</td>\n",
       "      <td>0.536518</td>\n",
       "      <td>0.656000</td>\n",
       "      <td>0.360342</td>\n",
       "      <td>2.906976</td>\n",
       "    </tr>\n",
       "    <tr>\n",
       "      <th>5</th>\n",
       "      <td>0.677491</td>\n",
       "      <td>0.358510</td>\n",
       "      <td>0.479592</td>\n",
       "      <td>0.072880</td>\n",
       "      <td>3.195529</td>\n",
       "    </tr>\n",
       "    <tr>\n",
       "      <th>6</th>\n",
       "      <td>0.725262</td>\n",
       "      <td>0.479870</td>\n",
       "      <td>0.088947</td>\n",
       "      <td>0.759760</td>\n",
       "      <td>3.362690</td>\n",
       "    </tr>\n",
       "    <tr>\n",
       "      <th>7</th>\n",
       "      <td>0.355482</td>\n",
       "      <td>0.639619</td>\n",
       "      <td>0.417618</td>\n",
       "      <td>0.122604</td>\n",
       "      <td>3.810689</td>\n",
       "    </tr>\n",
       "    <tr>\n",
       "      <th>8</th>\n",
       "      <td>0.553621</td>\n",
       "      <td>0.667350</td>\n",
       "      <td>0.323806</td>\n",
       "      <td>0.814870</td>\n",
       "      <td>4.053028</td>\n",
       "    </tr>\n",
       "    <tr>\n",
       "      <th>9</th>\n",
       "      <td>0.306889</td>\n",
       "      <td>0.316878</td>\n",
       "      <td>0.622634</td>\n",
       "      <td>0.095399</td>\n",
       "      <td>4.150673</td>\n",
       "    </tr>\n",
       "    <tr>\n",
       "      <th>10</th>\n",
       "      <td>0.583973</td>\n",
       "      <td>0.147243</td>\n",
       "      <td>0.348097</td>\n",
       "      <td>0.428615</td>\n",
       "      <td>4.165426</td>\n",
       "    </tr>\n",
       "    <tr>\n",
       "      <th>11</th>\n",
       "      <td>0.191447</td>\n",
       "      <td>0.038193</td>\n",
       "      <td>0.607418</td>\n",
       "      <td>0.414584</td>\n",
       "      <td>4.165788</td>\n",
       "    </tr>\n",
       "    <tr>\n",
       "      <th>12</th>\n",
       "      <td>0.305406</td>\n",
       "      <td>0.999999</td>\n",
       "      <td>0.908830</td>\n",
       "      <td>0.830208</td>\n",
       "      <td>4.220643</td>\n",
       "    </tr>\n",
       "    <tr>\n",
       "      <th>13</th>\n",
       "      <td>0.683432</td>\n",
       "      <td>0.118663</td>\n",
       "      <td>0.829046</td>\n",
       "      <td>0.567577</td>\n",
       "      <td>4.362262</td>\n",
       "    </tr>\n",
       "    <tr>\n",
       "      <th>14</th>\n",
       "      <td>0.511142</td>\n",
       "      <td>0.817957</td>\n",
       "      <td>0.728710</td>\n",
       "      <td>0.112354</td>\n",
       "      <td>4.378635</td>\n",
       "    </tr>\n",
       "    <tr>\n",
       "      <th>15</th>\n",
       "      <td>0.352356</td>\n",
       "      <td>0.322242</td>\n",
       "      <td>0.116979</td>\n",
       "      <td>0.473113</td>\n",
       "      <td>4.696581</td>\n",
       "    </tr>\n",
       "    <tr>\n",
       "      <th>16</th>\n",
       "      <td>0.463442</td>\n",
       "      <td>0.630025</td>\n",
       "      <td>0.107906</td>\n",
       "      <td>0.957644</td>\n",
       "      <td>5.451998</td>\n",
       "    </tr>\n",
       "    <tr>\n",
       "      <th>17</th>\n",
       "      <td>0.836478</td>\n",
       "      <td>0.193610</td>\n",
       "      <td>0.663893</td>\n",
       "      <td>0.785649</td>\n",
       "      <td>5.554395</td>\n",
       "    </tr>\n",
       "    <tr>\n",
       "      <th>18</th>\n",
       "      <td>0.438933</td>\n",
       "      <td>0.774092</td>\n",
       "      <td>0.378167</td>\n",
       "      <td>0.933696</td>\n",
       "      <td>5.874388</td>\n",
       "    </tr>\n",
       "    <tr>\n",
       "      <th>19</th>\n",
       "      <td>0.119879</td>\n",
       "      <td>0.862540</td>\n",
       "      <td>0.643331</td>\n",
       "      <td>0.849804</td>\n",
       "      <td>6.067529</td>\n",
       "    </tr>\n",
       "    <tr>\n",
       "      <th>20</th>\n",
       "      <td>0.235065</td>\n",
       "      <td>0.947364</td>\n",
       "      <td>0.562318</td>\n",
       "      <td>0.900965</td>\n",
       "      <td>6.743039</td>\n",
       "    </tr>\n",
       "    <tr>\n",
       "      <th>21</th>\n",
       "      <td>0.184853</td>\n",
       "      <td>0.999999</td>\n",
       "      <td>0.666808</td>\n",
       "      <td>0.811157</td>\n",
       "      <td>6.856477</td>\n",
       "    </tr>\n",
       "    <tr>\n",
       "      <th>22</th>\n",
       "      <td>0.220000</td>\n",
       "      <td>0.840000</td>\n",
       "      <td>0.880000</td>\n",
       "      <td>0.880000</td>\n",
       "      <td>6.976395</td>\n",
       "    </tr>\n",
       "    <tr>\n",
       "      <th>23</th>\n",
       "      <td>0.224189</td>\n",
       "      <td>0.846480</td>\n",
       "      <td>0.879484</td>\n",
       "      <td>0.878516</td>\n",
       "      <td>6.992886</td>\n",
       "    </tr>\n",
       "    <tr>\n",
       "      <th>24</th>\n",
       "      <td>0.232590</td>\n",
       "      <td>0.844583</td>\n",
       "      <td>0.883651</td>\n",
       "      <td>0.880775</td>\n",
       "      <td>7.014086</td>\n",
       "    </tr>\n",
       "    <tr>\n",
       "      <th>25</th>\n",
       "      <td>0.236257</td>\n",
       "      <td>0.888882</td>\n",
       "      <td>0.844659</td>\n",
       "      <td>0.886004</td>\n",
       "      <td>7.059641</td>\n",
       "    </tr>\n",
       "    <tr>\n",
       "      <th>26</th>\n",
       "      <td>0.231038</td>\n",
       "      <td>0.847897</td>\n",
       "      <td>0.883615</td>\n",
       "      <td>0.890081</td>\n",
       "      <td>7.066234</td>\n",
       "    </tr>\n",
       "    <tr>\n",
       "      <th>27</th>\n",
       "      <td>0.231744</td>\n",
       "      <td>0.855280</td>\n",
       "      <td>0.890860</td>\n",
       "      <td>0.899489</td>\n",
       "      <td>7.163866</td>\n",
       "    </tr>\n",
       "    <tr>\n",
       "      <th>28</th>\n",
       "      <td>0.247469</td>\n",
       "      <td>0.898655</td>\n",
       "      <td>0.999999</td>\n",
       "      <td>0.981066</td>\n",
       "      <td>8.042472</td>\n",
       "    </tr>\n",
       "    <tr>\n",
       "      <th>29</th>\n",
       "      <td>0.267874</td>\n",
       "      <td>0.999999</td>\n",
       "      <td>0.999999</td>\n",
       "      <td>0.980430</td>\n",
       "      <td>8.343249</td>\n",
       "    </tr>\n",
       "    <tr>\n",
       "      <th>30</th>\n",
       "      <td>0.206993</td>\n",
       "      <td>0.991498</td>\n",
       "      <td>0.955382</td>\n",
       "      <td>0.999999</td>\n",
       "      <td>8.237372</td>\n",
       "    </tr>\n",
       "    <tr>\n",
       "      <th>31</th>\n",
       "      <td>0.250000</td>\n",
       "      <td>0.982003</td>\n",
       "      <td>0.990186</td>\n",
       "      <td>0.998865</td>\n",
       "      <td>8.311941</td>\n",
       "    </tr>\n",
       "    <tr>\n",
       "      <th>32</th>\n",
       "      <td>0.165370</td>\n",
       "      <td>0.981963</td>\n",
       "      <td>0.999999</td>\n",
       "      <td>0.977524</td>\n",
       "      <td>8.272683</td>\n",
       "    </tr>\n",
       "    <tr>\n",
       "      <th>33</th>\n",
       "      <td>0.262200</td>\n",
       "      <td>0.999999</td>\n",
       "      <td>0.999999</td>\n",
       "      <td>0.980598</td>\n",
       "      <td>8.343371</td>\n",
       "    </tr>\n",
       "    <tr>\n",
       "      <th>34</th>\n",
       "      <td>0.276802</td>\n",
       "      <td>0.971068</td>\n",
       "      <td>0.970844</td>\n",
       "      <td>0.978079</td>\n",
       "      <td>8.148991</td>\n",
       "    </tr>\n",
       "    <tr>\n",
       "      <th>35</th>\n",
       "      <td>0.269789</td>\n",
       "      <td>0.999999</td>\n",
       "      <td>0.999999</td>\n",
       "      <td>0.999999</td>\n",
       "      <td>8.403527</td>\n",
       "    </tr>\n",
       "    <tr>\n",
       "      <th>36</th>\n",
       "      <td>0.999999</td>\n",
       "      <td>0.999999</td>\n",
       "      <td>0.728348</td>\n",
       "      <td>0.999999</td>\n",
       "      <td>8.615019</td>\n",
       "    </tr>\n",
       "    <tr>\n",
       "      <th>37</th>\n",
       "      <td>0.277324</td>\n",
       "      <td>0.999999</td>\n",
       "      <td>0.999999</td>\n",
       "      <td>0.999999</td>\n",
       "      <td>8.404072</td>\n",
       "    </tr>\n",
       "    <tr>\n",
       "      <th>38</th>\n",
       "      <td>0.999999</td>\n",
       "      <td>0.999999</td>\n",
       "      <td>0.630100</td>\n",
       "      <td>0.999999</td>\n",
       "      <td>8.524315</td>\n",
       "    </tr>\n",
       "    <tr>\n",
       "      <th>39</th>\n",
       "      <td>0.999999</td>\n",
       "      <td>0.999999</td>\n",
       "      <td>0.491822</td>\n",
       "      <td>0.999999</td>\n",
       "      <td>8.447503</td>\n",
       "    </tr>\n",
       "  </tbody>\n",
       "</table>\n",
       "</div>"
      ],
      "text/plain": [
       "          x1        x2        x3        x4         y\n",
       "0   0.438350  0.804340  0.210245  0.151295 -2.180900\n",
       "1   0.706051  0.534192  0.264243  0.482088  1.437676\n",
       "2   0.153786  0.729382  0.422598  0.443074  2.180191\n",
       "3   0.126885  0.153430  0.770162  0.190518  2.299814\n",
       "4   0.758653  0.536518  0.656000  0.360342  2.906976\n",
       "5   0.677491  0.358510  0.479592  0.072880  3.195529\n",
       "6   0.725262  0.479870  0.088947  0.759760  3.362690\n",
       "7   0.355482  0.639619  0.417618  0.122604  3.810689\n",
       "8   0.553621  0.667350  0.323806  0.814870  4.053028\n",
       "9   0.306889  0.316878  0.622634  0.095399  4.150673\n",
       "10  0.583973  0.147243  0.348097  0.428615  4.165426\n",
       "11  0.191447  0.038193  0.607418  0.414584  4.165788\n",
       "12  0.305406  0.999999  0.908830  0.830208  4.220643\n",
       "13  0.683432  0.118663  0.829046  0.567577  4.362262\n",
       "14  0.511142  0.817957  0.728710  0.112354  4.378635\n",
       "15  0.352356  0.322242  0.116979  0.473113  4.696581\n",
       "16  0.463442  0.630025  0.107906  0.957644  5.451998\n",
       "17  0.836478  0.193610  0.663893  0.785649  5.554395\n",
       "18  0.438933  0.774092  0.378167  0.933696  5.874388\n",
       "19  0.119879  0.862540  0.643331  0.849804  6.067529\n",
       "20  0.235065  0.947364  0.562318  0.900965  6.743039\n",
       "21  0.184853  0.999999  0.666808  0.811157  6.856477\n",
       "22  0.220000  0.840000  0.880000  0.880000  6.976395\n",
       "23  0.224189  0.846480  0.879484  0.878516  6.992886\n",
       "24  0.232590  0.844583  0.883651  0.880775  7.014086\n",
       "25  0.236257  0.888882  0.844659  0.886004  7.059641\n",
       "26  0.231038  0.847897  0.883615  0.890081  7.066234\n",
       "27  0.231744  0.855280  0.890860  0.899489  7.163866\n",
       "28  0.247469  0.898655  0.999999  0.981066  8.042472\n",
       "29  0.267874  0.999999  0.999999  0.980430  8.343249\n",
       "30  0.206993  0.991498  0.955382  0.999999  8.237372\n",
       "31  0.250000  0.982003  0.990186  0.998865  8.311941\n",
       "32  0.165370  0.981963  0.999999  0.977524  8.272683\n",
       "33  0.262200  0.999999  0.999999  0.980598  8.343371\n",
       "34  0.276802  0.971068  0.970844  0.978079  8.148991\n",
       "35  0.269789  0.999999  0.999999  0.999999  8.403527\n",
       "36  0.999999  0.999999  0.728348  0.999999  8.615019\n",
       "37  0.277324  0.999999  0.999999  0.999999  8.404072\n",
       "38  0.999999  0.999999  0.630100  0.999999  8.524315\n",
       "39  0.999999  0.999999  0.491822  0.999999  8.447503"
      ]
     },
     "execution_count": 6,
     "metadata": {},
     "output_type": "execute_result"
    }
   ],
   "source": [
    "df"
   ]
  },
  {
   "cell_type": "markdown",
   "id": "0981900d",
   "metadata": {},
   "source": [
    "# 2. Visualise data on plots"
   ]
  },
  {
   "cell_type": "code",
   "execution_count": 7,
   "id": "e975d6b8",
   "metadata": {},
   "outputs": [],
   "source": [
    "top_2_indices = df['y'].nlargest(1).index\n",
    "top_qntl_index = df['y'].nlargest(5).index\n",
    "colors = np.full(df.shape[0], 'b', dtype=object)  # Default color is blue\n",
    "colors[df['y'].nlargest(5).index] = 'r'\n",
    "colors[df['y'].nsmallest(5).index] = 'y'  # Color top points red"
   ]
  },
  {
   "cell_type": "code",
   "execution_count": 8,
   "id": "d1c627e1",
   "metadata": {},
   "outputs": [
    {
     "data": {
      "image/png": "[encoded data removed]",
      "text/plain": [
       "<Figure size 640x480 with 1 Axes>"
      ]
     },
     "metadata": {},
     "output_type": "display_data"
    }
   ],
   "source": [
    "plt.scatter(df['x1'],df['y'], c = colors)\n",
    "# Highlight the two highest y values\n",
    "plt.ylabel('y')\n",
    "plt.xlabel('x1')\n",
    "plt.show()"
   ]
  },
  {
   "cell_type": "code",
   "execution_count": 9,
   "id": "06b61d97",
   "metadata": {},
   "outputs": [
    {
     "data": {
      "image/png": "[encoded data removed]",
      "text/plain": [
       "<Figure size 640x480 with 1 Axes>"
      ]
     },
     "metadata": {},
     "output_type": "display_data"
    }
   ],
   "source": [
    "plt.scatter(df['x2'],df['y'], c = colors)\n",
    "# Highlight the two highest y values\n",
    "plt.ylabel('y')\n",
    "plt.xlabel('x2')\n",
    "plt.show()"
   ]
  },
  {
   "cell_type": "code",
   "execution_count": 10,
   "id": "3dd11e42",
   "metadata": {},
   "outputs": [
    {
     "data": {
      "image/png": "[encoded data removed]",
      "text/plain": [
       "<Figure size 640x480 with 1 Axes>"
      ]
     },
     "metadata": {},
     "output_type": "display_data"
    }
   ],
   "source": [
    "plt.scatter(df['x3'],df['y'], c = colors)\n",
    "# Highlight the two highest y values\n",
    "plt.ylabel('y')\n",
    "plt.xlabel('x3')\n",
    "plt.show()"
   ]
  },
  {
   "cell_type": "code",
   "execution_count": 11,
   "id": "cbb0e711",
   "metadata": {},
   "outputs": [
    {
     "data": {
      "image/png": "[encoded data removed]",
      "text/plain": [
       "<Figure size 640x480 with 1 Axes>"
      ]
     },
     "metadata": {},
     "output_type": "display_data"
    }
   ],
   "source": [
    "plt.scatter(df['x4'],df['y'], c = colors)\n",
    "# Highlight the two highest y values\n",
    "plt.ylabel('y')\n",
    "plt.xlabel('x4')\n",
    "plt.show()"
   ]
  },
  {
   "cell_type": "markdown",
   "id": "47c28f25",
   "metadata": {},
   "source": [
    "# You can rotate in 3 dimentions, color is y values"
   ]
  },
  {
   "cell_type": "code",
   "execution_count": 12,
   "id": "469a04bf",
   "metadata": {},
   "outputs": [
    {
     "data": {
      "image/png": "[encoded data removed]",
      "text/plain": [
       "<Figure size 700x700 with 1 Axes>"
      ]
     },
     "metadata": {},
     "output_type": "display_data"
    }
   ],
   "source": [
    "#%matplotlib notebook\n",
    "fig = plt.figure(figsize=(7,7))\n",
    "ax = fig.add_subplot(111, projection='3d')\n",
    "colors=df['y'].sort_values()\n",
    "# Plot the surface\n",
    "ax.scatter(df['x1'], df['x3'], df['y'], c = colors, cmap='viridis')\n",
    "# Set labels\n",
    "ax.set_xlabel('x1')\n",
    "ax.set_ylabel('x3')\n",
    "ax.set_zlabel('y')\n",
    "# Display the plot\n",
    "plt.show()"
   ]
  },
  {
   "cell_type": "code",
   "execution_count": 13,
   "id": "7ac57aef",
   "metadata": {},
   "outputs": [],
   "source": [
    "%matplotlib inline"
   ]
  },
  {
   "cell_type": "markdown",
   "id": "569d5427",
   "metadata": {},
   "source": [
    "# 3. Build the grid for Optimization\n",
    "fine tune the size of grid for high dimention!"
   ]
  },
  {
   "cell_type": "code",
   "execution_count": 14,
   "id": "cafe9a0d",
   "metadata": {},
   "outputs": [],
   "source": [
    "x = np.linspace(0,0.999999,40).reshape(-1,1)"
   ]
  },
  {
   "cell_type": "code",
   "execution_count": 15,
   "id": "6763bad6",
   "metadata": {},
   "outputs": [],
   "source": [
    "x_grid = np.array([[x1, x2, x3, x4] for x1 in x for x2 in x for x3 in x for x4 in x ])"
   ]
  },
  {
   "cell_type": "code",
   "execution_count": 16,
   "id": "22b409af",
   "metadata": {},
   "outputs": [],
   "source": [
    "x_grid = x_grid.squeeze()"
   ]
  },
  {
   "cell_type": "code",
   "execution_count": 17,
   "id": "dca3f584",
   "metadata": {},
   "outputs": [],
   "source": [
    "X = df.iloc[:,:-1].to_numpy()"
   ]
  },
  {
   "cell_type": "code",
   "execution_count": 18,
   "id": "8d53bfd7",
   "metadata": {},
   "outputs": [],
   "source": [
    "y = df.iloc[:,-1].to_numpy()"
   ]
  },
  {
   "cell_type": "markdown",
   "id": "9a09eb54",
   "metadata": {},
   "source": [
    "# 4. Use Gaussian Process Regressor with Radial Based Function "
   ]
  },
  {
   "cell_type": "code",
   "execution_count": 19,
   "id": "a19063d5",
   "metadata": {},
   "outputs": [],
   "source": [
    "kernel = RBF(length_scale = (0.2,0.2,0.2,0.2), length_scale_bounds=(1e-4,1e4))"
   ]
  },
  {
   "cell_type": "code",
   "execution_count": 20,
   "id": "06c40142",
   "metadata": {},
   "outputs": [],
   "source": [
    "# Apply workaround with custom optmizer to get rid of max_iter warning\n",
    "from scipy.optimize import fmin_l_bfgs_b\n",
    "\n",
    "# Custom optimizer with maxiter set\n",
    "def custom_optimizer(obj_func, initial_theta, bounds):\n",
    "    optimized_result = fmin_l_bfgs_b(\n",
    "        obj_func,\n",
    "        initial_theta,\n",
    "        bounds=bounds,\n",
    "        maxiter=10000  # Increase maxiter as needed\n",
    "    )\n",
    "    # fmin_l_bfgs_b returns (optimized_params, min_value, info_dict)\n",
    "    return optimized_result[0], optimized_result[1]\n",
    "\n",
    "# Create the GaussianProcessRegressor with the custom optimizer\n",
    "bo_model = GaussianProcessRegressor(\n",
    "    kernel=kernel,\n",
    "    alpha=1e-10,\n",
    "    n_restarts_optimizer=1000,\n",
    "    normalize_y=True,\n",
    "    optimizer=custom_optimizer\n",
    ")"
   ]
  },
  {
   "cell_type": "code",
   "execution_count": 21,
   "id": "170cdacc",
   "metadata": {},
   "outputs": [
    {
     "data": {
      "text/html": [
       "<style>#sk-container-id-1 {color: black;}#sk-container-id-1 pre{padding: 0;}#sk-container-id-1 div.sk-toggleable {background-color: white;}#sk-container-id-1 label.sk-toggleable__label {cursor: pointer;display: block;width: 100%;margin-bottom: 0;padding: 0.3em;box-sizing: border-box;text-align: center;}#sk-container-id-1 label.sk-toggleable__label-arrow:before {content: \"▸\";float: left;margin-right: 0.25em;color: #696969;}#sk-container-id-1 label.sk-toggleable__label-arrow:hover:before {color: black;}#sk-container-id-1 div.sk-estimator:hover label.sk-toggleable__label-arrow:before {color: black;}#sk-container-id-1 div.sk-toggleable__content {max-height: 0;max-width: 0;overflow: hidden;text-align: left;background-color: #f0f8ff;}#sk-container-id-1 div.sk-toggleable__content pre {margin: 0.2em;color: black;border-radius: 0.25em;background-color: #f0f8ff;}#sk-container-id-1 input.sk-toggleable__control:checked~div.sk-toggleable__content {max-height: 200px;max-width: 100%;overflow: auto;}#sk-container-id-1 input.sk-toggleable__control:checked~label.sk-toggleable__label-arrow:before {content: \"▾\";}#sk-container-id-1 div.sk-estimator input.sk-toggleable__control:checked~label.sk-toggleable__label {background-color: #d4ebff;}#sk-container-id-1 div.sk-label input.sk-toggleable__control:checked~label.sk-toggleable__label {background-color: #d4ebff;}#sk-container-id-1 input.sk-hidden--visually {border: 0;clip: rect(1px 1px 1px 1px);clip: rect(1px, 1px, 1px, 1px);height: 1px;margin: -1px;overflow: hidden;padding: 0;position: absolute;width: 1px;}#sk-container-id-1 div.sk-estimator {font-family: monospace;background-color: #f0f8ff;border: 1px dotted black;border-radius: 0.25em;box-sizing: border-box;margin-bottom: 0.5em;}#sk-container-id-1 div.sk-estimator:hover {background-color: #d4ebff;}#sk-container-id-1 div.sk-parallel-item::after {content: \"\";width: 100%;border-bottom: 1px solid gray;flex-grow: 1;}#sk-container-id-1 div.sk-label:hover label.sk-toggleable__label {background-color: #d4ebff;}#sk-container-id-1 div.sk-serial::before {content: \"\";position: absolute;border-left: 1px solid gray;box-sizing: border-box;top: 0;bottom: 0;left: 50%;z-index: 0;}#sk-container-id-1 div.sk-serial {display: flex;flex-direction: column;align-items: center;background-color: white;padding-right: 0.2em;padding-left: 0.2em;position: relative;}#sk-container-id-1 div.sk-item {position: relative;z-index: 1;}#sk-container-id-1 div.sk-parallel {display: flex;align-items: stretch;justify-content: center;background-color: white;position: relative;}#sk-container-id-1 div.sk-item::before, #sk-container-id-1 div.sk-parallel-item::before {content: \"\";position: absolute;border-left: 1px solid gray;box-sizing: border-box;top: 0;bottom: 0;left: 50%;z-index: -1;}#sk-container-id-1 div.sk-parallel-item {display: flex;flex-direction: column;z-index: 1;position: relative;background-color: white;}#sk-container-id-1 div.sk-parallel-item:first-child::after {align-self: flex-end;width: 50%;}#sk-container-id-1 div.sk-parallel-item:last-child::after {align-self: flex-start;width: 50%;}#sk-container-id-1 div.sk-parallel-item:only-child::after {width: 0;}#sk-container-id-1 div.sk-dashed-wrapped {border: 1px dashed gray;margin: 0 0.4em 0.5em 0.4em;box-sizing: border-box;padding-bottom: 0.4em;background-color: white;}#sk-container-id-1 div.sk-label label {font-family: monospace;font-weight: bold;display: inline-block;line-height: 1.2em;}#sk-container-id-1 div.sk-label-container {text-align: center;}#sk-container-id-1 div.sk-container {/* jupyter's `normalize.less` sets `[hidden] { display: none; }` but bootstrap.min.css set `[hidden] { display: none !important; }` so we also need the `!important` here to be able to override the default hidden behavior on the sphinx rendered scikit-learn.org. See: https://github.com/scikit-learn/scikit-learn/issues/21755 */display: inline-block !important;position: relative;}#sk-container-id-1 div.sk-text-repr-fallback {display: none;}</style><div id=\"sk-container-id-1\" class=\"sk-top-container\"><div class=\"sk-text-repr-fallback\"><pre>GaussianProcessRegressor(kernel=RBF(length_scale=[0.2, 0.2, 0.2, 0.2]),\n",
       "                         n_restarts_optimizer=1000, normalize_y=True,\n",
       "                         optimizer=&lt;function custom_optimizer at 0x000002BFBC7C3250&gt;)</pre><b>In a Jupyter environment, please rerun this cell to show the HTML representation or trust the notebook. <br />On GitHub, the HTML representation is unable to render, please try loading this page with nbviewer.org.</b></div><div class=\"sk-container\" hidden><div class=\"sk-item\"><div class=\"sk-estimator sk-toggleable\"><input class=\"sk-toggleable__control sk-hidden--visually\" id=\"sk-estimator-id-1\" type=\"checkbox\" checked><label for=\"sk-estimator-id-1\" class=\"sk-toggleable__label sk-toggleable__label-arrow\">GaussianProcessRegressor</label><div class=\"sk-toggleable__content\"><pre>GaussianProcessRegressor(kernel=RBF(length_scale=[0.2, 0.2, 0.2, 0.2]),\n",
       "                         n_restarts_optimizer=1000, normalize_y=True,\n",
       "                         optimizer=&lt;function custom_optimizer at 0x000002BFBC7C3250&gt;)</pre></div></div></div></div></div>"
      ],
      "text/plain": [
       "GaussianProcessRegressor(kernel=RBF(length_scale=[0.2, 0.2, 0.2, 0.2]),\n",
       "                         n_restarts_optimizer=1000, normalize_y=True,\n",
       "                         optimizer=<function custom_optimizer at 0x000002BFBC7C3250>)"
      ]
     },
     "execution_count": 21,
     "metadata": {},
     "output_type": "execute_result"
    }
   ],
   "source": [
    "bo_model.fit(X, y)"
   ]
  },
  {
   "cell_type": "code",
   "execution_count": 22,
   "id": "37a0f828",
   "metadata": {},
   "outputs": [],
   "source": [
    "# Check that predicted values are equal originals - this is just a control point\n",
    "# np.column_stack( (y,bo_model.predict(X)) )"
   ]
  },
  {
   "cell_type": "code",
   "execution_count": 23,
   "id": "bcbdbbae",
   "metadata": {},
   "outputs": [
    {
     "data": {
      "text/plain": [
       "array([28.838281, 0.207516, 0.238187, 0.105134])"
      ]
     },
     "execution_count": 23,
     "metadata": {},
     "output_type": "execute_result"
    }
   ],
   "source": [
    "# check the scale parameter\n",
    "bo_model.kernel_.length_scale"
   ]
  },
  {
   "cell_type": "code",
   "execution_count": 24,
   "id": "aa101cd7",
   "metadata": {},
   "outputs": [],
   "source": [
    "# Predict for the grid\n",
    "post_mean, post_std = bo_model.predict(x_grid, return_std=True)"
   ]
  },
  {
   "cell_type": "code",
   "execution_count": 25,
   "id": "76ed59a3",
   "metadata": {},
   "outputs": [],
   "source": [
    "# Define aquiring function, you can change 2 to 1 or 0 depends upon the strategy \n",
    "a_fun = post_mean + 1 * post_std # <- Fine tune it depends from strategy"
   ]
  },
  {
   "cell_type": "code",
   "execution_count": 26,
   "id": "551ac2bd",
   "metadata": {},
   "outputs": [
    {
     "name": "stdout",
     "output_type": "stream",
     "text": [
      "The maximum of acquiring function is 9.929274898284653 the max index is 2558759\n",
      "post_mean = 8.3668449557885  post_std = 1.5624299424961547\n",
      "the next point for Bayesian Optimization is [0.999999 0.999999 0.205128 0.999999]\n"
     ]
    },
    {
     "data": {
      "text/plain": [
       "20522.454318243"
      ]
     },
     "execution_count": 26,
     "metadata": {},
     "output_type": "execute_result"
    }
   ],
   "source": [
    "# Find the index and maximum value of acquiring function\n",
    "i = np.argmax(a_fun)\n",
    "print('The maximum of acquiring function is', a_fun[i],'the max index is',i)\n",
    "print('post_mean =', post_mean[i],' post_std =', post_std[i])\n",
    "print('the next point for Bayesian Optimization is',x_grid[i])\n",
    "np.exp(a_fun[i])"
   ]
  },
  {
   "cell_type": "code",
   "execution_count": 27,
   "id": "8ad660dd",
   "metadata": {},
   "outputs": [
    {
     "name": "stdout",
     "output_type": "stream",
     "text": [
      "Optimal value 20525.185567\n",
      "at point [0.999999 0.999999 0.203106 0.999999]\n"
     ]
    }
   ],
   "source": [
    "# I would like to find out the points even better than grid\n",
    "# I use optimize.minimize function over bayesian predictor\n",
    "# This piece of code is useful for multi-dimentionsfrom scipy.optimize import minimize\n",
    "def aquisition_fun(x):\n",
    "    x = np.atleast_2d(x)\n",
    "    post_mean, post_std = bo_model.predict(x, return_std=True)\n",
    "    return -(post_mean + 1 * post_std)\n",
    "result = minimize(aquisition_fun, x_grid[i], bounds=[(0, 0.999999)]*4, tol=1e-8)\n",
    "optimal_point = result.x\n",
    "optimal_value = np.exp(-result.fun)\n",
    "print(f\"Optimal value {optimal_value:0.6f}\")\n",
    "print(\"at point\", optimal_point)"
   ]
  },
  {
   "cell_type": "markdown",
   "id": "e0a240a5",
   "metadata": {},
   "source": [
    "# 5. Find the next point based on linear gradient from max point"
   ]
  },
  {
   "cell_type": "code",
   "execution_count": 52,
   "id": "e287b5df",
   "metadata": {},
   "outputs": [
    {
     "name": "stdout",
     "output_type": "stream",
     "text": [
      "Some analytics for hyperplain:\n",
      "max value = 8.615019088058835\n",
      "Average distance 0.41448394518372567\n",
      "Determinant of the covariance matrix should not be 0: 1.8089945194864377e-08\n",
      "X selected points, Y selected,Y predicted, Distance from max\n",
      "[[0.999999 0.999999 0.728348 0.999999 8.615019 8.610696 0.000000]\n",
      " [0.999999 0.999999 0.630100 0.999999 8.524315 8.538721 0.098248]\n",
      " [0.999999 0.999999 0.491822 0.999999 8.447503 8.437420 0.236526]\n",
      " [0.438933 0.774092 0.378167 0.933696 5.874388 5.874388 0.702034]\n",
      " [0.553621 0.667350 0.323806 0.814870 4.053028 4.053028 0.712626]\n",
      " [0.305406 0.999999 0.908830 0.830208 4.220643 4.220643 0.737470]]\n",
      "Highest point on hyperplane within 1 distance: [0.999999 0.999999 0.770773 0.999999]\n",
      "Highest y value on hyperplane within 1 distance: 8.641775611395282\n",
      "Gradient [2.332295 0.167640 0.732586 17.093228]\n"
     ]
    }
   ],
   "source": [
    "# Find the maximum value in y and its index\n",
    "max_index = top_2_indices[0]\n",
    "max_value = y[max_index]\n",
    "print(\"Some analytics for hyperplain:\")\n",
    "print('max value =', max_value)\n",
    "# Calculate distances from the point with maximum y to all other points\n",
    "distances = np.linalg.norm(X - X[max_index], axis=1)\n",
    "closest_indices = np.argsort(distances)[1:6] #<- To fine tune the number of points to research & build surrounding plane \n",
    "indices_to_use = np.concatenate(([max_index], closest_indices))\n",
    "# Show average distance of closest points. Step should not be far away\n",
    "mean_dist = distances[indices_to_use].mean()\n",
    "print(\"Average distance\",mean_dist)\n",
    "# Extract the points and their corresponding y values\n",
    "X_selected = X[indices_to_use]\n",
    "y_selected = y[indices_to_use]\n",
    "# Fit a linear hyperplane using the selected points\n",
    "l2_model = LinearRegression()\n",
    "l2_model.fit(X_selected, y_selected, sample_weight = 4/(1 + 4 * distances[indices_to_use]/mean_dist))\n",
    "# Coefficients of the linear hyperplane\n",
    "coefficients = l2_model.coef_\n",
    "intercept = l2_model.intercept_\n",
    "# Calculate the covariance matrix of the feature matrix X\n",
    "cov_matrix = np.cov(X_selected, rowvar=False)\n",
    "# Calculate the determinant of the covariance matrix\n",
    "det_cov_matrix = np.linalg.det(cov_matrix)\n",
    "print(\"Determinant of the covariance matrix should not be 0:\", det_cov_matrix)\n",
    "# Define the maximum point\n",
    "max_point = X[max_index]\n",
    "# Calculate the gradient of the hyperplane\n",
    "gradient = coefficients\n",
    "# THIS IS IMPORTANT\n",
    "# Define the distance to move along the gradient direction depends on surroundings and predicted value\n",
    "distance = 1 # <- To fine tune the distance\n",
    "# Normalize the gradient to unit length\n",
    "gradient_unit = gradient / np.linalg.norm(gradient)\n",
    "# Move from the maximum point in the direction of the gradient by the specified distance\n",
    "highest_point_on_hyperplane = np.clip(max_point + distance * gradient_unit, 0, 0.999999)\n",
    "# Calculate the y value at this highest point\n",
    "highest_y_value_on_hyperplane = l2_model.predict([highest_point_on_hyperplane])[0]\n",
    "print(\"X selected points, Y selected,Y predicted, Distance from max\")\n",
    "print(np.column_stack( (X_selected, y_selected, l2_model.predict(X_selected), distances[indices_to_use])))\n",
    "print(\"Highest point on hyperplane within\",distance,\"distance:\", highest_point_on_hyperplane)\n",
    "print(\"Highest y value on hyperplane within\",distance,\"distance:\", highest_y_value_on_hyperplane)\n",
    "print(\"Gradient\",gradient)\n",
    "point1 = highest_point_on_hyperplane"
   ]
  },
  {
   "cell_type": "code",
   "execution_count": 53,
   "id": "d290ba8e",
   "metadata": {},
   "outputs": [
    {
     "data": {
      "text/plain": [
       "0.9999862509849262"
      ]
     },
     "execution_count": 53,
     "metadata": {},
     "output_type": "execute_result"
    }
   ],
   "source": [
    "# Check the model score, it should be close to 1\n",
    "l2_model.score(X_selected, y_selected)"
   ]
  },
  {
   "cell_type": "code",
   "execution_count": 54,
   "id": "681c0b82",
   "metadata": {},
   "outputs": [
    {
     "data": {
      "text/plain": [
       "0.0424245764237301"
      ]
     },
     "execution_count": 54,
     "metadata": {},
     "output_type": "execute_result"
    }
   ],
   "source": [
    "# Check the distance from max point\n",
    "np.linalg.norm(highest_point_on_hyperplane - X[max_index])"
   ]
  },
  {
   "cell_type": "code",
   "execution_count": 75,
   "id": "efa6575d",
   "metadata": {},
   "outputs": [
    {
     "data": {
      "text/plain": [
       "5663.376858467941"
      ]
     },
     "execution_count": 75,
     "metadata": {},
     "output_type": "execute_result"
    }
   ],
   "source": [
    "np.exp(highest_y_value_on_hyperplane)"
   ]
  },
  {
   "cell_type": "code",
   "execution_count": 55,
   "id": "7ce1f5b5",
   "metadata": {},
   "outputs": [
    {
     "name": "stdout",
     "output_type": "stream",
     "text": [
      "Covariance matrix:\n",
      " [[0.102737 0.023358 -0.001234 0.023657]\n",
      " [0.023358 0.021938 0.025811 0.007470]\n",
      " [-0.001234 0.025811 0.049347 0.000730]\n",
      " [0.023657 0.007470 0.000730 0.007585]]\n"
     ]
    }
   ],
   "source": [
    "# See covariance matrix to control multicolinearity\n",
    "print(\"Covariance matrix:\\n\", cov_matrix)"
   ]
  },
  {
   "cell_type": "code",
   "execution_count": 56,
   "id": "47518082",
   "metadata": {},
   "outputs": [
    {
     "data": {
      "text/plain": [
       "array([8.569896])"
      ]
     },
     "execution_count": 56,
     "metadata": {},
     "output_type": "execute_result"
    }
   ],
   "source": [
    "# Check what Bayesian think about this point\n",
    "bo_model.predict([highest_point_on_hyperplane])"
   ]
  },
  {
   "cell_type": "code",
   "execution_count": 57,
   "id": "0be52d56",
   "metadata": {},
   "outputs": [
    {
     "data": {
      "text/plain": [
       "array([4.000000, 2.053232, 1.218544, 0.514468, 0.507792, 0.492793])"
      ]
     },
     "execution_count": 57,
     "metadata": {},
     "output_type": "execute_result"
    }
   ],
   "source": [
    "#weights of points\n",
    "4/(1 + 4 * distances[indices_to_use]/mean_dist)"
   ]
  },
  {
   "cell_type": "code",
   "execution_count": 58,
   "id": "a11ac08f",
   "metadata": {},
   "outputs": [
    {
     "data": {
      "text/plain": [
       "array([0.634666, 0.343514, 0.017447, 0.004372])"
      ]
     },
     "execution_count": 58,
     "metadata": {},
     "output_type": "execute_result"
    }
   ],
   "source": [
    "# Do prinicple components analysis of data seleted for plain surface to double check multicol.\n",
    "from sklearn.decomposition import KernelPCA, PCA\n",
    "pca = PCA(n_components = 4)\n",
    "X_lin = pca.fit(X_selected)\n",
    "X_lin.explained_variance_ratio_"
   ]
  },
  {
   "cell_type": "markdown",
   "id": "959ecda1",
   "metadata": {},
   "source": [
    "# Build aproximation of quadratic polinome at maxpoint"
   ]
  },
  {
   "cell_type": "code",
   "execution_count": 59,
   "id": "4923791c",
   "metadata": {},
   "outputs": [],
   "source": [
    "def num_of_nonl_param(n):\n",
    "    # function returns the number of minimum points for quadratic polynomal\n",
    "    n = np.array(n)\n",
    "    return int(1 + 2 * n + n * (n-1) / 2)"
   ]
  },
  {
   "cell_type": "code",
   "execution_count": 60,
   "id": "6d9b7183",
   "metadata": {},
   "outputs": [],
   "source": [
    "poly = PolynomialFeatures(2, include_bias = False)\n",
    "XN = poly.fit_transform(X)"
   ]
  },
  {
   "cell_type": "code",
   "execution_count": 61,
   "id": "ce5845b1",
   "metadata": {},
   "outputs": [],
   "source": [
    "max_index=np.argmax(y) \n",
    "max_value = y[max_index]\n",
    "#print('max value =', max_value)\n",
    "# Calculate distances from the point with maximum y to all other points\n",
    "distances = np.linalg.norm(X - X[max_index], axis=1)"
   ]
  },
  {
   "cell_type": "code",
   "execution_count": 62,
   "id": "91d503a5",
   "metadata": {},
   "outputs": [],
   "source": [
    "def apprF(n):\n",
    "    # Sort the distances and get the indices of the two closest neighbors (excluding itself)\n",
    "    # THE NUMBER OF POINTS IS EQUIAL TO THE TOTAL DIMENTIONALITY!!!\n",
    "    closest_indices = np.argsort(distances)[1:n]\n",
    "    # Indices of the three points (max point + two closest neighbors)\n",
    "    indices_to_use = np.concatenate(([max_index], closest_indices))\n",
    "    #print('indices to use', indices_to_use)\n",
    "    # Show overage distance of closest points. Step should not be far away\n",
    "    print(\"Average distance\",distances[indices_to_use].mean())\n",
    "    # Extract the points and their corresponding y values\n",
    "    XN_selected = XN[indices_to_use]\n",
    "    y_selected = y[indices_to_use]\n",
    "    # print(X_selected)\n",
    "    # Fit a linear hyperplane using the selected points\n",
    "    lreg = LinearRegression()\n",
    "    lreg.fit(XN_selected, y_selected)\n",
    "    print(\"Y,      Prediction, Distance\")\n",
    "    print(np.column_stack( (y_selected, lreg.predict(XN_selected), distances[indices_to_use]) ))\n",
    "    print(\"Score =\",lreg.score(XN_selected,y_selected))\n",
    "    print(\"Normlized error =\", np.linalg.norm(y_selected - lreg.predict(XN_selected)))\n",
    "    return lreg"
   ]
  },
  {
   "cell_type": "code",
   "execution_count": 63,
   "id": "9497234c",
   "metadata": {},
   "outputs": [
    {
     "data": {
      "text/plain": [
       "15"
      ]
     },
     "execution_count": 63,
     "metadata": {},
     "output_type": "execute_result"
    }
   ],
   "source": [
    "num_of_nonl_param(4)"
   ]
  },
  {
   "cell_type": "code",
   "execution_count": 70,
   "id": "352bc4a0",
   "metadata": {},
   "outputs": [
    {
     "name": "stdout",
     "output_type": "stream",
     "text": [
      "Average distance 0.6565570460953252\n",
      "Y,      Prediction, Distance\n",
      "[[8.615019 8.616086 0.000000]\n",
      " [8.524315 8.522480 0.098248]\n",
      " [8.447503 8.448269 0.236526]\n",
      " [5.874388 5.874328 0.702034]\n",
      " [4.053028 4.053059 0.712626]\n",
      " [4.220643 4.220731 0.737470]\n",
      " [8.148991 8.149043 0.763633]\n",
      " [8.404072 8.405185 0.772045]\n",
      " [8.403527 8.407054 0.779103]\n",
      " [8.343249 8.332116 0.781143]\n",
      " [8.343371 8.352089 0.786459]\n",
      " [7.059641 7.060113 0.788779]\n",
      " [6.743039 6.742912 0.790739]\n",
      " [8.311941 8.308932 0.794596]\n",
      " [7.163866 7.171266 0.804781]\n",
      " [7.066234 7.059455 0.806614]\n",
      " [8.042472 8.042182 0.806675]]\n",
      "Score = 0.999990269305946\n",
      "Normlized error = 0.018132971288913467\n"
     ]
    }
   ],
   "source": [
    "lreg = apprF(17) #<- Fine tune this number so solution will be stable"
   ]
  },
  {
   "cell_type": "code",
   "execution_count": 71,
   "id": "7c680cdc",
   "metadata": {},
   "outputs": [],
   "source": [
    "X0 = X[max_index,:] \n",
    "def opt_fun(x):\n",
    "    polynom = poly.fit_transform(x.reshape(1, -1))\n",
    "    return -lreg.predict(polynom)"
   ]
  },
  {
   "cell_type": "code",
   "execution_count": 72,
   "id": "a8176c0d",
   "metadata": {},
   "outputs": [
    {
     "name": "stdout",
     "output_type": "stream",
     "text": [
      "Bonds\n",
      " [[0.099999 0.999999]\n",
      " [0.099999 0.999999]\n",
      " [0.000000 0.999999]\n",
      " [0.099999 0.999999]]\n"
     ]
    }
   ],
   "source": [
    "# define bounds as the solution is not stable!\n",
    "step = 0.9\n",
    "bnds = []\n",
    "for i in range(0,len(X0)): bnds.append( (max(X0[i]-step,0), min(X0[i]+step,0.999999)) )\n",
    "print('Bonds\\n', np.array(bnds))"
   ]
  },
  {
   "cell_type": "code",
   "execution_count": 73,
   "id": "456c4150",
   "metadata": {},
   "outputs": [],
   "source": [
    "result = minimize(opt_fun, X0, bounds=bnds, tol=1e-5)"
   ]
  },
  {
   "cell_type": "code",
   "execution_count": 74,
   "id": "4a2e972c",
   "metadata": {
    "scrolled": true
   },
   "outputs": [
    {
     "name": "stdout",
     "output_type": "stream",
     "text": [
      "The next point is [0.999999 0.099999 0.999999 0.999999]\n",
      "Estimated error-44.660\n"
     ]
    }
   ],
   "source": [
    "print('The next point is',result.x)\n",
    "print(f'Estimated error{result.fun:0.3f}')"
   ]
  },
  {
   "cell_type": "code",
   "execution_count": 69,
   "id": "af50b0a5",
   "metadata": {},
   "outputs": [
    {
     "data": {
      "text/plain": [
       "8442.77943221035"
      ]
     },
     "execution_count": 69,
     "metadata": {},
     "output_type": "execute_result"
    }
   ],
   "source": [
    "np.exp(-result.fun)"
   ]
  },
  {
   "cell_type": "code",
   "execution_count": null,
   "id": "237625b2",
   "metadata": {},
   "outputs": [],
   "source": []
  }
 ],
 "metadata": {
  "kernelspec": {
   "display_name": "Python 3 (ipykernel)",
   "language": "python",
   "name": "python3"
  },
  "language_info": {
   "codemirror_mode": {
    "name": "ipython",
    "version": 3
   },
   "file_extension": ".py",
   "mimetype": "text/x-python",
   "name": "python",
   "nbconvert_exporter": "python",
   "pygments_lexer": "ipython3",
   "version": "3.10.13"
  }
 },
 "nbformat": 4,
 "nbformat_minor": 5
}
