{
 "cells": [
  {
   "cell_type": "code",
   "execution_count": 1,
   "id": "7bb7c23d",
   "metadata": {},
   "outputs": [],
   "source": [
    "import numpy as np\n",
    "import pandas as pd"
   ]
  },
  {
   "cell_type": "markdown",
   "id": "e1b6e144",
   "metadata": {},
   "source": [
    "# This file should be run only once to initialize working excel table\n",
    "# Please do not run it again"
   ]
  },
  {
   "cell_type": "code",
   "execution_count": 2,
   "id": "ecd3f699",
   "metadata": {},
   "outputs": [],
   "source": [
    "orig_inputs = np.load('initial_inputs.npy')"
   ]
  },
  {
   "cell_type": "code",
   "execution_count": 3,
   "id": "6ca6c9f0",
   "metadata": {},
   "outputs": [],
   "source": [
    "orig_outputs = np.load('initial_outputs.npy')"
   ]
  },
  {
   "cell_type": "code",
   "execution_count": 4,
   "id": "0d9bf889",
   "metadata": {},
   "outputs": [
    {
     "data": {
      "text/plain": [
       "array([[0.66579958, 0.12396913],\n",
       "       [0.87779099, 0.7786275 ],\n",
       "       [0.14269907, 0.34900513],\n",
       "       [0.84527543, 0.71112027],\n",
       "       [0.45464714, 0.29045518],\n",
       "       [0.57771284, 0.77197318],\n",
       "       [0.43816606, 0.68501826],\n",
       "       [0.34174959, 0.02869772],\n",
       "       [0.33864816, 0.21386725],\n",
       "       [0.70263656, 0.9265642 ]])"
      ]
     },
     "execution_count": 4,
     "metadata": {},
     "output_type": "execute_result"
    }
   ],
   "source": [
    "orig_inputs"
   ]
  },
  {
   "cell_type": "code",
   "execution_count": 5,
   "id": "7373a7c5",
   "metadata": {},
   "outputs": [],
   "source": [
    "df = pd.DataFrame(orig_inputs, columns = ['x1','x2'])"
   ]
  },
  {
   "cell_type": "code",
   "execution_count": 6,
   "id": "e5a8d60e",
   "metadata": {},
   "outputs": [],
   "source": [
    "df['y'] = pd.DataFrame(orig_outputs, columns = ['y'])"
   ]
  },
  {
   "cell_type": "code",
   "execution_count": 7,
   "id": "4a83210a",
   "metadata": {},
   "outputs": [],
   "source": [
    "#df.to_excel('data2.xlsx', index=False)"
   ]
  },
  {
   "cell_type": "code",
   "execution_count": 8,
   "id": "d8a833bc",
   "metadata": {},
   "outputs": [],
   "source": [
    "df2 = pd.read_excel('data2.xlsx')"
   ]
  },
  {
   "cell_type": "code",
   "execution_count": 9,
   "id": "80339b4e",
   "metadata": {},
   "outputs": [
    {
     "data": {
      "text/html": [
       "<div>\n",
       "<style scoped>\n",
       "    .dataframe tbody tr th:only-of-type {\n",
       "        vertical-align: middle;\n",
       "    }\n",
       "\n",
       "    .dataframe tbody tr th {\n",
       "        vertical-align: top;\n",
       "    }\n",
       "\n",
       "    .dataframe thead th {\n",
       "        text-align: right;\n",
       "    }\n",
       "</style>\n",
       "<table border=\"1\" class=\"dataframe\">\n",
       "  <thead>\n",
       "    <tr style=\"text-align: right;\">\n",
       "      <th></th>\n",
       "      <th>x1</th>\n",
       "      <th>x2</th>\n",
       "      <th>y</th>\n",
       "    </tr>\n",
       "  </thead>\n",
       "  <tbody>\n",
       "    <tr>\n",
       "      <th>0</th>\n",
       "      <td>0.665800</td>\n",
       "      <td>0.123969</td>\n",
       "      <td>0.538996</td>\n",
       "    </tr>\n",
       "    <tr>\n",
       "      <th>1</th>\n",
       "      <td>0.877791</td>\n",
       "      <td>0.778628</td>\n",
       "      <td>0.420586</td>\n",
       "    </tr>\n",
       "    <tr>\n",
       "      <th>2</th>\n",
       "      <td>0.142699</td>\n",
       "      <td>0.349005</td>\n",
       "      <td>-0.065624</td>\n",
       "    </tr>\n",
       "    <tr>\n",
       "      <th>3</th>\n",
       "      <td>0.845275</td>\n",
       "      <td>0.711120</td>\n",
       "      <td>0.293993</td>\n",
       "    </tr>\n",
       "    <tr>\n",
       "      <th>4</th>\n",
       "      <td>0.454647</td>\n",
       "      <td>0.290455</td>\n",
       "      <td>0.214965</td>\n",
       "    </tr>\n",
       "    <tr>\n",
       "      <th>5</th>\n",
       "      <td>0.577713</td>\n",
       "      <td>0.771973</td>\n",
       "      <td>0.023106</td>\n",
       "    </tr>\n",
       "    <tr>\n",
       "      <th>6</th>\n",
       "      <td>0.438166</td>\n",
       "      <td>0.685018</td>\n",
       "      <td>0.244619</td>\n",
       "    </tr>\n",
       "    <tr>\n",
       "      <th>7</th>\n",
       "      <td>0.341750</td>\n",
       "      <td>0.028698</td>\n",
       "      <td>0.038749</td>\n",
       "    </tr>\n",
       "    <tr>\n",
       "      <th>8</th>\n",
       "      <td>0.338648</td>\n",
       "      <td>0.213867</td>\n",
       "      <td>-0.013858</td>\n",
       "    </tr>\n",
       "    <tr>\n",
       "      <th>9</th>\n",
       "      <td>0.702637</td>\n",
       "      <td>0.926564</td>\n",
       "      <td>0.611205</td>\n",
       "    </tr>\n",
       "  </tbody>\n",
       "</table>\n",
       "</div>"
      ],
      "text/plain": [
       "         x1        x2         y\n",
       "0  0.665800  0.123969  0.538996\n",
       "1  0.877791  0.778628  0.420586\n",
       "2  0.142699  0.349005 -0.065624\n",
       "3  0.845275  0.711120  0.293993\n",
       "4  0.454647  0.290455  0.214965\n",
       "5  0.577713  0.771973  0.023106\n",
       "6  0.438166  0.685018  0.244619\n",
       "7  0.341750  0.028698  0.038749\n",
       "8  0.338648  0.213867 -0.013858\n",
       "9  0.702637  0.926564  0.611205"
      ]
     },
     "execution_count": 9,
     "metadata": {},
     "output_type": "execute_result"
    }
   ],
   "source": [
    "df2"
   ]
  },
  {
   "cell_type": "code",
   "execution_count": null,
   "id": "dc4940b0",
   "metadata": {},
   "outputs": [],
   "source": []
  }
 ],
 "metadata": {
  "kernelspec": {
   "display_name": "Python 3 (ipykernel)",
   "language": "python",
   "name": "python3"
  },
  "language_info": {
   "codemirror_mode": {
    "name": "ipython",
    "version": 3
   },
   "file_extension": ".py",
   "mimetype": "text/x-python",
   "name": "python",
   "nbconvert_exporter": "python",
   "pygments_lexer": "ipython3",
   "version": "3.8.19"
  }
 },
 "nbformat": 4,
 "nbformat_minor": 5
}
