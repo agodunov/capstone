{
 "cells": [
  {
   "cell_type": "code",
   "execution_count": 1,
   "id": "51c0a9ac",
   "metadata": {},
   "outputs": [],
   "source": [
    "import numpy as np\n",
    "import pandas as pd\n",
    "np.set_printoptions(formatter={'float_kind': lambda x: f\"{x:0.6f}\"})"
   ]
  },
  {
   "cell_type": "markdown",
   "id": "64aed915",
   "metadata": {},
   "source": [
    "# Run each time to report new numbers from functions"
   ]
  },
  {
   "cell_type": "code",
   "execution_count": 2,
   "id": "b56e2412",
   "metadata": {},
   "outputs": [
    {
     "name": "stdout",
     "output_type": "stream",
     "text": [
      "Data Set1\n",
      "0.674399-0.663127      23/7 BO 1*std exp 5.293615\n",
      "0.665816-0.672578      23/7 grad exp 4.09\n"
     ]
    }
   ],
   "source": [
    "df = pd.read_excel('function_1/data1.xlsx')\n",
    "print(\"Data Set1\")\n",
    "for x in df.tail(2).to_numpy(): \n",
    "    print(f\"{x[0]:0.6f}-{x[1]:0.6f}     \",x[3])"
   ]
  },
  {
   "cell_type": "code",
   "execution_count": 3,
   "id": "b5220c09",
   "metadata": {
    "scrolled": false
   },
   "outputs": [
    {
     "name": "stdout",
     "output_type": "stream",
     "text": [
      "Data Set2\n",
      "0.680313-0.000000      23/7 BO 1* std exp 0.690643\n",
      "0.687288-0.911523      23/7 BO 1* std exp 0.652453\n"
     ]
    }
   ],
   "source": [
    "df = pd.read_excel('function_2/data2.xlsx')\n",
    "print(\"Data Set2\")\n",
    "for x in df.tail(2).to_numpy(): \n",
    "    print(f\"{x[0]:0.6f}-{x[1]:0.6f}     \",x[3])"
   ]
  },
  {
   "cell_type": "code",
   "execution_count": 4,
   "id": "e95031b8",
   "metadata": {},
   "outputs": [
    {
     "name": "stdout",
     "output_type": "stream",
     "text": [
      "Data Set3\n",
      "0.370386-0.375136-0.432791      23/7 BO 2*std exp 0.164\n",
      "0.399815-0.413034-0.447517      23/7 BO 1*std exp 0.056\n"
     ]
    }
   ],
   "source": [
    "df = pd.read_excel('function_3/data3.xlsx')\n",
    "print(\"Data Set3\")\n",
    "for x in df.tail(2).to_numpy(): \n",
    "    print(f\"{x[0]:0.6f}-{x[1]:0.6f}-{x[2]:0.6f}     \", x[4])"
   ]
  },
  {
   "cell_type": "code",
   "execution_count": 5,
   "id": "a57aa6a8",
   "metadata": {},
   "outputs": [
    {
     "name": "stdout",
     "output_type": "stream",
     "text": [
      "Data Set4\n",
      "0.435077-0.836258-0.417007-0.394420      24/7 BO 1*std 7.8\n",
      "0.421353-0.373050-0.369109-0.333101      24/7 brutal force exp 1.88\n"
     ]
    }
   ],
   "source": [
    "df = pd.read_excel('function_4/data4.xlsx')\n",
    "print(\"Data Set4\")\n",
    "for x in df.tail(2).to_numpy(): \n",
    "    print(f\"{x[0]:0.6f}-{x[1]:0.6f}-{x[2]:0.6f}-{x[3]:0.6f}     \", x[5])"
   ]
  },
  {
   "cell_type": "code",
   "execution_count": 6,
   "id": "0af4f6df",
   "metadata": {},
   "outputs": [
    {
     "name": "stdout",
     "output_type": "stream",
     "text": [
      "Data Set5\n",
      "0.999999-0.999999-0.203106-0.999999      24/7 BO 1*std exp 20000\n",
      "0.999999-0.999999-0.770773-0.999999      24/7 grad exp 5663\n"
     ]
    }
   ],
   "source": [
    "df = pd.read_excel('function_5/data5.xlsx')\n",
    "print(\"Data Set5\")\n",
    "for x in df.tail(2).to_numpy(): \n",
    "    print(f\"{x[0]:0.6f}-{x[1]:0.6f}-{x[2]:0.6f}-{x[3]:0.6f}     \", x[5])"
   ]
  },
  {
   "cell_type": "code",
   "execution_count": 7,
   "id": "e69d6ef4",
   "metadata": {},
   "outputs": [
    {
     "name": "stdout",
     "output_type": "stream",
     "text": [
      "Data Set6\n",
      "0.432395-0.328337-0.594178-0.751730-0.123437      24/7 BO 1*std exp -0.24\n",
      "0.444892-0.383763-0.623153-0.722789-0.126110      24/7 quad pol exp -0.328\n"
     ]
    }
   ],
   "source": [
    "df = pd.read_excel('function_6/data6.xlsx')\n",
    "print(\"Data Set6\")\n",
    "for x in df.tail(2).to_numpy(): \n",
    "    print(f\"{x[0]:0.6f}-{x[1]:0.6f}-{x[2]:0.6f}-{x[3]:0.6f}-{x[4]:0.6f}     \", x[6])"
   ]
  },
  {
   "cell_type": "code",
   "execution_count": 8,
   "id": "dd1bbb02",
   "metadata": {},
   "outputs": [
    {
     "name": "stdout",
     "output_type": "stream",
     "text": [
      "Data Set7\n",
      "0.171814-0.218889-0.434886-0.266445-0.225800-0.702206      24/7 BO 1*std exp 3.26\n",
      "0.133594-0.188824-0.516849-0.304658-0.199345-0.658005      24/7 grad exp 3.8\n"
     ]
    }
   ],
   "source": [
    "df = pd.read_excel('function_7/data7.xlsx')\n",
    "print(\"Data Set7\")\n",
    "for x in df.tail(2).to_numpy(): \n",
    "    print(f\"{x[0]:0.6f}-{x[1]:0.6f}-{x[2]:0.6f}-{x[3]:0.6f}-{x[4]:0.6f}-{x[5]:0.6f}     \", x[7])"
   ]
  },
  {
   "cell_type": "code",
   "execution_count": 9,
   "id": "62a87dc3",
   "metadata": {},
   "outputs": [
    {
     "name": "stdout",
     "output_type": "stream",
     "text": [
      "Data Set8\n",
      "0.100000-0.150000-0.130000-0.150000-0.800000-0.500000-0.200000-0.600000      nan\n",
      "0.100000-0.150000-0.130000-0.150000-0.800000-0.500000-0.200000-0.600000      nan\n"
     ]
    }
   ],
   "source": [
    "df = pd.read_excel('function_8/data8.xlsx')\n",
    "print(\"Data Set8\")\n",
    "for x in df.tail(2).to_numpy(): \n",
    "    print(f\"{x[0]:0.6f}-{x[1]:0.6f}-{x[2]:0.6f}-{x[3]:0.6f}-{x[4]:0.6f}-{x[5]:0.6f}-{x[6]:0.6f}-{x[7]:0.6f}     \", x[9])"
   ]
  },
  {
   "cell_type": "code",
   "execution_count": null,
   "id": "d4e3ea00",
   "metadata": {},
   "outputs": [],
   "source": []
  },
  {
   "cell_type": "code",
   "execution_count": null,
   "id": "bbbe96ca",
   "metadata": {},
   "outputs": [],
   "source": []
  }
 ],
 "metadata": {
  "kernelspec": {
   "display_name": "Python 3 (ipykernel)",
   "language": "python",
   "name": "python3"
  },
  "language_info": {
   "codemirror_mode": {
    "name": "ipython",
    "version": 3
   },
   "file_extension": ".py",
   "mimetype": "text/x-python",
   "name": "python",
   "nbconvert_exporter": "python",
   "pygments_lexer": "ipython3",
   "version": "3.10.13"
  }
 },
 "nbformat": 4,
 "nbformat_minor": 5
}
