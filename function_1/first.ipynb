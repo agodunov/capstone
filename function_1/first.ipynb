{
 "cells": [
  {
   "cell_type": "code",
   "execution_count": 10,
   "id": "7bb7c23d",
   "metadata": {},
   "outputs": [],
   "source": [
    "import numpy as np\n",
    "import pandas as pd"
   ]
  },
  {
   "cell_type": "markdown",
   "id": "5980dfe5",
   "metadata": {},
   "source": [
    "# This file should be run only once to initialize working excel table\n",
    "# Please do not run it again"
   ]
  },
  {
   "cell_type": "code",
   "execution_count": 11,
   "id": "ecd3f699",
   "metadata": {},
   "outputs": [],
   "source": [
    "orig_inputs = np.load('initial_inputs.npy')"
   ]
  },
  {
   "cell_type": "code",
   "execution_count": 12,
   "id": "6ca6c9f0",
   "metadata": {},
   "outputs": [],
   "source": [
    "orig_outputs = np.load('initial_outputs.npy')"
   ]
  },
  {
   "cell_type": "code",
   "execution_count": 13,
   "id": "0d9bf889",
   "metadata": {},
   "outputs": [
    {
     "data": {
      "text/plain": [
       "array([[0.31940389, 0.76295937],\n",
       "       [0.57432921, 0.8798981 ],\n",
       "       [0.73102363, 0.73299988],\n",
       "       [0.84035342, 0.26473161],\n",
       "       [0.65011406, 0.68152635],\n",
       "       [0.41043714, 0.1475543 ],\n",
       "       [0.31269116, 0.07872278],\n",
       "       [0.68341817, 0.86105746],\n",
       "       [0.08250725, 0.40348751],\n",
       "       [0.88388983, 0.58225397]])"
      ]
     },
     "execution_count": 13,
     "metadata": {},
     "output_type": "execute_result"
    }
   ],
   "source": [
    "orig_inputs"
   ]
  },
  {
   "cell_type": "code",
   "execution_count": 14,
   "id": "7373a7c5",
   "metadata": {},
   "outputs": [],
   "source": [
    "df = pd.DataFrame(orig_inputs, columns = ['x1','x2'])"
   ]
  },
  {
   "cell_type": "code",
   "execution_count": 15,
   "id": "e5a8d60e",
   "metadata": {},
   "outputs": [],
   "source": [
    "df['y'] = pd.DataFrame(orig_outputs, columns = ['y'])"
   ]
  },
  {
   "cell_type": "code",
   "execution_count": 16,
   "id": "4a83210a",
   "metadata": {},
   "outputs": [],
   "source": [
    "#df.to_excel('data1.xlsx', index=False)"
   ]
  },
  {
   "cell_type": "code",
   "execution_count": 17,
   "id": "d8a833bc",
   "metadata": {},
   "outputs": [],
   "source": [
    "df2 = pd.read_excel('data1.xlsx')"
   ]
  },
  {
   "cell_type": "code",
   "execution_count": 18,
   "id": "80339b4e",
   "metadata": {},
   "outputs": [
    {
     "data": {
      "text/html": [
       "<div>\n",
       "<style scoped>\n",
       "    .dataframe tbody tr th:only-of-type {\n",
       "        vertical-align: middle;\n",
       "    }\n",
       "\n",
       "    .dataframe tbody tr th {\n",
       "        vertical-align: top;\n",
       "    }\n",
       "\n",
       "    .dataframe thead th {\n",
       "        text-align: right;\n",
       "    }\n",
       "</style>\n",
       "<table border=\"1\" class=\"dataframe\">\n",
       "  <thead>\n",
       "    <tr style=\"text-align: right;\">\n",
       "      <th></th>\n",
       "      <th>x1</th>\n",
       "      <th>x2</th>\n",
       "      <th>y</th>\n",
       "    </tr>\n",
       "  </thead>\n",
       "  <tbody>\n",
       "    <tr>\n",
       "      <th>0</th>\n",
       "      <td>0.319404</td>\n",
       "      <td>0.762959</td>\n",
       "      <td>1.322677e-79</td>\n",
       "    </tr>\n",
       "    <tr>\n",
       "      <th>1</th>\n",
       "      <td>0.574329</td>\n",
       "      <td>0.879898</td>\n",
       "      <td>1.033078e-46</td>\n",
       "    </tr>\n",
       "    <tr>\n",
       "      <th>2</th>\n",
       "      <td>0.731024</td>\n",
       "      <td>0.733000</td>\n",
       "      <td>7.710875e-16</td>\n",
       "    </tr>\n",
       "    <tr>\n",
       "      <th>3</th>\n",
       "      <td>0.840353</td>\n",
       "      <td>0.264732</td>\n",
       "      <td>3.341771e-124</td>\n",
       "    </tr>\n",
       "    <tr>\n",
       "      <th>4</th>\n",
       "      <td>0.650114</td>\n",
       "      <td>0.681526</td>\n",
       "      <td>-3.606063e-03</td>\n",
       "    </tr>\n",
       "    <tr>\n",
       "      <th>5</th>\n",
       "      <td>0.410437</td>\n",
       "      <td>0.147554</td>\n",
       "      <td>-2.159249e-54</td>\n",
       "    </tr>\n",
       "    <tr>\n",
       "      <th>6</th>\n",
       "      <td>0.312691</td>\n",
       "      <td>0.078723</td>\n",
       "      <td>-2.089093e-91</td>\n",
       "    </tr>\n",
       "    <tr>\n",
       "      <th>7</th>\n",
       "      <td>0.683418</td>\n",
       "      <td>0.861057</td>\n",
       "      <td>2.535001e-40</td>\n",
       "    </tr>\n",
       "    <tr>\n",
       "      <th>8</th>\n",
       "      <td>0.082507</td>\n",
       "      <td>0.403488</td>\n",
       "      <td>3.606771e-81</td>\n",
       "    </tr>\n",
       "    <tr>\n",
       "      <th>9</th>\n",
       "      <td>0.883890</td>\n",
       "      <td>0.582254</td>\n",
       "      <td>6.229856e-48</td>\n",
       "    </tr>\n",
       "  </tbody>\n",
       "</table>\n",
       "</div>"
      ],
      "text/plain": [
       "         x1        x2              y\n",
       "0  0.319404  0.762959   1.322677e-79\n",
       "1  0.574329  0.879898   1.033078e-46\n",
       "2  0.731024  0.733000   7.710875e-16\n",
       "3  0.840353  0.264732  3.341771e-124\n",
       "4  0.650114  0.681526  -3.606063e-03\n",
       "5  0.410437  0.147554  -2.159249e-54\n",
       "6  0.312691  0.078723  -2.089093e-91\n",
       "7  0.683418  0.861057   2.535001e-40\n",
       "8  0.082507  0.403488   3.606771e-81\n",
       "9  0.883890  0.582254   6.229856e-48"
      ]
     },
     "execution_count": 18,
     "metadata": {},
     "output_type": "execute_result"
    }
   ],
   "source": [
    "df2"
   ]
  },
  {
   "cell_type": "code",
   "execution_count": null,
   "id": "dc4940b0",
   "metadata": {},
   "outputs": [],
   "source": []
  }
 ],
 "metadata": {
  "kernelspec": {
   "display_name": "Python 3 (ipykernel)",
   "language": "python",
   "name": "python3"
  },
  "language_info": {
   "codemirror_mode": {
    "name": "ipython",
    "version": 3
   },
   "file_extension": ".py",
   "mimetype": "text/x-python",
   "name": "python",
   "nbconvert_exporter": "python",
   "pygments_lexer": "ipython3",
   "version": "3.8.19"
  }
 },
 "nbformat": 4,
 "nbformat_minor": 5
}
