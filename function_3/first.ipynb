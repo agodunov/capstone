{
 "cells": [
  {
   "cell_type": "code",
   "execution_count": 5,
   "id": "7bb7c23d",
   "metadata": {},
   "outputs": [],
   "source": [
    "import numpy as np\n",
    "import pandas as pd"
   ]
  },
  {
   "cell_type": "markdown",
   "id": "0942ae6b",
   "metadata": {},
   "source": [
    "# This file should be run only once to initialize working excel table\n",
    "# Please do not run it again"
   ]
  },
  {
   "cell_type": "code",
   "execution_count": 6,
   "id": "ecd3f699",
   "metadata": {},
   "outputs": [],
   "source": [
    "orig_inputs = np.load('initial_inputs.npy')"
   ]
  },
  {
   "cell_type": "code",
   "execution_count": 7,
   "id": "6ca6c9f0",
   "metadata": {},
   "outputs": [],
   "source": [
    "orig_outputs = np.load('initial_outputs.npy')"
   ]
  },
  {
   "cell_type": "code",
   "execution_count": 8,
   "id": "7373a7c5",
   "metadata": {},
   "outputs": [],
   "source": [
    "df = pd.DataFrame(orig_inputs, columns = ['x1','x2','x3'])"
   ]
  },
  {
   "cell_type": "code",
   "execution_count": 9,
   "id": "e5a8d60e",
   "metadata": {},
   "outputs": [],
   "source": [
    "df['y'] = pd.DataFrame(orig_outputs, columns = ['y'])"
   ]
  },
  {
   "cell_type": "code",
   "execution_count": 1,
   "id": "4a83210a",
   "metadata": {},
   "outputs": [],
   "source": [
    "#df.to_excel('data3.xlsx', index=False)"
   ]
  },
  {
   "cell_type": "code",
   "execution_count": 11,
   "id": "d8a833bc",
   "metadata": {},
   "outputs": [],
   "source": [
    "df2 = pd.read_excel('data3.xlsx')"
   ]
  },
  {
   "cell_type": "code",
   "execution_count": 12,
   "id": "80339b4e",
   "metadata": {},
   "outputs": [
    {
     "data": {
      "text/html": [
       "<div>\n",
       "<style scoped>\n",
       "    .dataframe tbody tr th:only-of-type {\n",
       "        vertical-align: middle;\n",
       "    }\n",
       "\n",
       "    .dataframe tbody tr th {\n",
       "        vertical-align: top;\n",
       "    }\n",
       "\n",
       "    .dataframe thead th {\n",
       "        text-align: right;\n",
       "    }\n",
       "</style>\n",
       "<table border=\"1\" class=\"dataframe\">\n",
       "  <thead>\n",
       "    <tr style=\"text-align: right;\">\n",
       "      <th></th>\n",
       "      <th>x1</th>\n",
       "      <th>x2</th>\n",
       "      <th>x3</th>\n",
       "      <th>y</th>\n",
       "    </tr>\n",
       "  </thead>\n",
       "  <tbody>\n",
       "    <tr>\n",
       "      <th>0</th>\n",
       "      <td>0.171525</td>\n",
       "      <td>0.343917</td>\n",
       "      <td>0.248737</td>\n",
       "      <td>-0.112122</td>\n",
       "    </tr>\n",
       "    <tr>\n",
       "      <th>1</th>\n",
       "      <td>0.242114</td>\n",
       "      <td>0.644074</td>\n",
       "      <td>0.272433</td>\n",
       "      <td>-0.087963</td>\n",
       "    </tr>\n",
       "    <tr>\n",
       "      <th>2</th>\n",
       "      <td>0.534906</td>\n",
       "      <td>0.398501</td>\n",
       "      <td>0.173389</td>\n",
       "      <td>-0.111415</td>\n",
       "    </tr>\n",
       "    <tr>\n",
       "      <th>3</th>\n",
       "      <td>0.492581</td>\n",
       "      <td>0.611593</td>\n",
       "      <td>0.340176</td>\n",
       "      <td>-0.034835</td>\n",
       "    </tr>\n",
       "    <tr>\n",
       "      <th>4</th>\n",
       "      <td>0.134622</td>\n",
       "      <td>0.219917</td>\n",
       "      <td>0.458206</td>\n",
       "      <td>-0.048008</td>\n",
       "    </tr>\n",
       "    <tr>\n",
       "      <th>5</th>\n",
       "      <td>0.345523</td>\n",
       "      <td>0.941360</td>\n",
       "      <td>0.269363</td>\n",
       "      <td>-0.110621</td>\n",
       "    </tr>\n",
       "    <tr>\n",
       "      <th>6</th>\n",
       "      <td>0.151837</td>\n",
       "      <td>0.439991</td>\n",
       "      <td>0.990882</td>\n",
       "      <td>-0.398926</td>\n",
       "    </tr>\n",
       "    <tr>\n",
       "      <th>7</th>\n",
       "      <td>0.645503</td>\n",
       "      <td>0.397143</td>\n",
       "      <td>0.919771</td>\n",
       "      <td>-0.113869</td>\n",
       "    </tr>\n",
       "    <tr>\n",
       "      <th>8</th>\n",
       "      <td>0.746912</td>\n",
       "      <td>0.284196</td>\n",
       "      <td>0.226300</td>\n",
       "      <td>-0.131461</td>\n",
       "    </tr>\n",
       "    <tr>\n",
       "      <th>9</th>\n",
       "      <td>0.170477</td>\n",
       "      <td>0.697032</td>\n",
       "      <td>0.149169</td>\n",
       "      <td>-0.094190</td>\n",
       "    </tr>\n",
       "    <tr>\n",
       "      <th>10</th>\n",
       "      <td>0.220549</td>\n",
       "      <td>0.297825</td>\n",
       "      <td>0.343555</td>\n",
       "      <td>-0.046947</td>\n",
       "    </tr>\n",
       "    <tr>\n",
       "      <th>11</th>\n",
       "      <td>0.666014</td>\n",
       "      <td>0.671985</td>\n",
       "      <td>0.246295</td>\n",
       "      <td>-0.105965</td>\n",
       "    </tr>\n",
       "    <tr>\n",
       "      <th>12</th>\n",
       "      <td>0.046809</td>\n",
       "      <td>0.231360</td>\n",
       "      <td>0.770618</td>\n",
       "      <td>-0.118048</td>\n",
       "    </tr>\n",
       "    <tr>\n",
       "      <th>13</th>\n",
       "      <td>0.600097</td>\n",
       "      <td>0.725136</td>\n",
       "      <td>0.066089</td>\n",
       "      <td>-0.036378</td>\n",
       "    </tr>\n",
       "    <tr>\n",
       "      <th>14</th>\n",
       "      <td>0.965995</td>\n",
       "      <td>0.861120</td>\n",
       "      <td>0.566829</td>\n",
       "      <td>-0.056758</td>\n",
       "    </tr>\n",
       "  </tbody>\n",
       "</table>\n",
       "</div>"
      ],
      "text/plain": [
       "          x1        x2        x3         y\n",
       "0   0.171525  0.343917  0.248737 -0.112122\n",
       "1   0.242114  0.644074  0.272433 -0.087963\n",
       "2   0.534906  0.398501  0.173389 -0.111415\n",
       "3   0.492581  0.611593  0.340176 -0.034835\n",
       "4   0.134622  0.219917  0.458206 -0.048008\n",
       "5   0.345523  0.941360  0.269363 -0.110621\n",
       "6   0.151837  0.439991  0.990882 -0.398926\n",
       "7   0.645503  0.397143  0.919771 -0.113869\n",
       "8   0.746912  0.284196  0.226300 -0.131461\n",
       "9   0.170477  0.697032  0.149169 -0.094190\n",
       "10  0.220549  0.297825  0.343555 -0.046947\n",
       "11  0.666014  0.671985  0.246295 -0.105965\n",
       "12  0.046809  0.231360  0.770618 -0.118048\n",
       "13  0.600097  0.725136  0.066089 -0.036378\n",
       "14  0.965995  0.861120  0.566829 -0.056758"
      ]
     },
     "execution_count": 12,
     "metadata": {},
     "output_type": "execute_result"
    }
   ],
   "source": [
    "df2"
   ]
  },
  {
   "cell_type": "code",
   "execution_count": null,
   "id": "dc4940b0",
   "metadata": {},
   "outputs": [],
   "source": []
  }
 ],
 "metadata": {
  "kernelspec": {
   "display_name": "Python 3 (ipykernel)",
   "language": "python",
   "name": "python3"
  },
  "language_info": {
   "codemirror_mode": {
    "name": "ipython",
    "version": 3
   },
   "file_extension": ".py",
   "mimetype": "text/x-python",
   "name": "python",
   "nbconvert_exporter": "python",
   "pygments_lexer": "ipython3",
   "version": "3.8.19"
  }
 },
 "nbformat": 4,
 "nbformat_minor": 5
}
